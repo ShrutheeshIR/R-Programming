{
 "cells": [
  {
   "cell_type": "markdown",
   "metadata": {},
   "source": [
    "# R - Programming"
   ]
  },
  {
   "cell_type": "markdown",
   "metadata": {},
   "source": [
    "R is a programming language that has been specifically designed for statistical purposes. This is a gentle introduction to R as a programming language than a statistical tool."
   ]
  },
  {
   "cell_type": "markdown",
   "metadata": {},
   "source": [
    "# Table of Contents\n",
    "\n",
    "1. <a href='#Basics'>Basics</a>\n",
    "2. <a href='#Vectors'>Vectors</a>\n",
    "3. <a href='#Factors'>Factors</a>\n",
    "4. <a href='#ArraysAndMatrices'>Arrays And Matrices</a>\n",
    "5. <a href='#Lists'>Lists</a>\n",
    "6. <a href='#DataFrames'>DataFrames</a>\n",
    "7. <a href='#ReadingFile'>Reading Data From Files</a>\n",
    "8. <a href='#ProgrammingConstructs'>Programming Constructs</a>\n",
    "9. <a href='#Functions'>User Defined Functions</a>\n",
    "10. <a href='#LoopFunctions'>Loop Functions</a>\n",
    "11. <a href='#MathAndStatOperations'>Mathematical And Statistical Operations</a>\n",
    "12. <a href='#GraphsAndPlots'>Graphs and Plots</a>\n"
   ]
  },
  {
   "cell_type": "markdown",
   "metadata": {},
   "source": [
    "<a id='Basics'></a>\n",
    "\n",
    "# 1. Basics"
   ]
  },
  {
   "cell_type": "markdown",
   "metadata": {},
   "source": [
    "## Data Types in R - Atomic classes\n",
    "\n",
    "\n",
    "Everything in R is a object. R has 5 basic classes:\n",
    "\n",
    "1. Numeric\n",
    "2. Character\n",
    "3. Integer\n",
    "4. Complex\n",
    "5. Logical\n",
    "\n",
    "To specifically say integer, L suffix is used. Else all numbers are numeric by default\n",
    "\n"
   ]
  },
  {
   "cell_type": "markdown",
   "metadata": {},
   "source": [
    "## Assignment\n"
   ]
  },
  {
   "cell_type": "code",
   "execution_count": 1,
   "metadata": {},
   "outputs": [
    {
     "name": "stdout",
     "output_type": "stream",
     "text": [
      "[1] 1\n",
      "[1] 3\n",
      "[1] 2\n"
     ]
    }
   ],
   "source": [
    "x <- 1\n",
    "3 -> y\n",
    "z = 2\n",
    "print(x)\n",
    "print(y)\n",
    "print(z)"
   ]
  },
  {
   "cell_type": "code",
   "execution_count": 2,
   "metadata": {},
   "outputs": [
    {
     "data": {
      "text/html": [
       "'msg'"
      ],
      "text/latex": [
       "'msg'"
      ],
      "text/markdown": [
       "'msg'"
      ],
      "text/plain": [
       "[1] \"msg\""
      ]
     },
     "metadata": {},
     "output_type": "display_data"
    }
   ],
   "source": [
    "t <- \"msg\"\n",
    "t"
   ]
  },
  {
   "cell_type": "markdown",
   "metadata": {},
   "source": [
    "## Properties of Objects\n",
    "\n",
    "Every object has attributes. Attributes can be -dimensions, class, length etc\n",
    "\n",
    "Mode of an object is datatype. Mode of vector is its datatype <br>\n",
    "Length is length<br>\n",
    "Class is object oriented property. It also gives datatype of object<br>\n"
   ]
  },
  {
   "cell_type": "code",
   "execution_count": 3,
   "metadata": {},
   "outputs": [
    {
     "name": "stdout",
     "output_type": "stream",
     "text": [
      "[1] \"numeric\"\n",
      "[1] 1\n",
      "[1] \"numeric\"\n"
     ]
    }
   ],
   "source": [
    "print(mode(x))\n",
    "print(length(x))\n",
    "print(class(x))"
   ]
  },
  {
   "cell_type": "markdown",
   "metadata": {},
   "source": [
    "#### Mode is always atomic, while class need not be atomic - it is explained in terms of common methods\n",
    "\n",
    "Unclass method is used to remove specific class. If x is of object data.frame, unclass will make it a simple list"
   ]
  },
  {
   "cell_type": "markdown",
   "metadata": {},
   "source": [
    "## Operations Allowed"
   ]
  },
  {
   "cell_type": "markdown",
   "metadata": {},
   "source": [
    "1. x + y - Addition <br>\n",
    "\n",
    "2. x - y - Subtraction <br>\n",
    "\n",
    "3. x * y - Multiplication <br>\n",
    "\n",
    "4. x / y - Division <br>\n",
    "\n",
    "5. x ^ y - Exponentiation <br>\n",
    "\n",
    "6. x %% y - Modular arithmetic <br>\n",
    "\n",
    "7. x %/% y - Integer division <br>\n",
    "\n",
    "8. x == y - Test for equality <br>\n",
    "\n",
    "9. x <= y - Test for less than or equal to <br>\n",
    "\n",
    "10. x >= y - Test for greater than or equal to <br>\n",
    "\n",
    "11. x && y - Boolean AND for scalars <br>\n",
    "\n",
    "12. x || y - Boolean OR for scalars <br>\n",
    "\n",
    "13. x & y - Boolean AND for vectors (vector x,y,result) <br>\n",
    "\n",
    "14. x | y - Boolean OR for vectors (vector x,y,result) <br>\n",
    "\n",
    "15. !x - Boolean negation"
   ]
  },
  {
   "cell_type": "markdown",
   "metadata": {},
   "source": [
    "## Packages"
   ]
  },
  {
   "cell_type": "markdown",
   "metadata": {},
   "source": [
    "All R functions and datasets are stored in packages. Only when a package is loaded are its contents available. This is done both for efficiency (the full list would take more memory and would take longer to search than a subset), and to aid package developers, who are protected from name clashes with other code. \n",
    "* To load a library : \n",
    "    library(lib_name)"
   ]
  },
  {
   "cell_type": "code",
   "execution_count": 4,
   "metadata": {},
   "outputs": [],
   "source": [
    "library(ggplot2)"
   ]
  },
  {
   "cell_type": "markdown",
   "metadata": {},
   "source": [
    "<a id='Vectors'></a>\n",
    "\n",
    "# 2. Vectors \n",
    "\n",
    "Most basic object of R. Vector is a collection of objects only of same class. <br>\n",
    "Can be created either using ':' or more popularly using 'c()'"
   ]
  },
  {
   "cell_type": "code",
   "execution_count": 5,
   "metadata": {},
   "outputs": [
    {
     "name": "stdout",
     "output_type": "stream",
     "text": [
      " [1]  1  2  3  4  5  6  7  8  9 10 11 12 13 14 15\n",
      "[1] 12 15 86 46  2\n"
     ]
    }
   ],
   "source": [
    "x = 1:15\n",
    "y = c(12,15,86,46,2)\n",
    "print(x)\n",
    "print(y)"
   ]
  },
  {
   "cell_type": "markdown",
   "metadata": {},
   "source": [
    "## Operations"
   ]
  },
  {
   "cell_type": "markdown",
   "metadata": {},
   "source": [
    "### Length of a vector\n"
   ]
  },
  {
   "cell_type": "code",
   "execution_count": 6,
   "metadata": {},
   "outputs": [
    {
     "data": {
      "text/html": [
       "15"
      ],
      "text/latex": [
       "15"
      ],
      "text/markdown": [
       "15"
      ],
      "text/plain": [
       "[1] 15"
      ]
     },
     "metadata": {},
     "output_type": "display_data"
    }
   ],
   "source": [
    "length(x)"
   ]
  },
  {
   "cell_type": "markdown",
   "metadata": {},
   "source": [
    "### To initialise empty vector\n"
   ]
  },
  {
   "cell_type": "code",
   "execution_count": 7,
   "metadata": {},
   "outputs": [
    {
     "data": {
      "text/html": [
       "<ol class=list-inline>\n",
       "\t<li>0</li>\n",
       "\t<li>0</li>\n",
       "\t<li>0</li>\n",
       "\t<li>0</li>\n",
       "\t<li>0</li>\n",
       "\t<li>0</li>\n",
       "\t<li>0</li>\n",
       "\t<li>0</li>\n",
       "\t<li>0</li>\n",
       "\t<li>0</li>\n",
       "</ol>\n"
      ],
      "text/latex": [
       "\\begin{enumerate*}\n",
       "\\item 0\n",
       "\\item 0\n",
       "\\item 0\n",
       "\\item 0\n",
       "\\item 0\n",
       "\\item 0\n",
       "\\item 0\n",
       "\\item 0\n",
       "\\item 0\n",
       "\\item 0\n",
       "\\end{enumerate*}\n"
      ],
      "text/markdown": [
       "1. 0\n",
       "2. 0\n",
       "3. 0\n",
       "4. 0\n",
       "5. 0\n",
       "6. 0\n",
       "7. 0\n",
       "8. 0\n",
       "9. 0\n",
       "10. 0\n",
       "\n",
       "\n"
      ],
      "text/plain": [
       " [1] 0 0 0 0 0 0 0 0 0 0"
      ]
     },
     "metadata": {},
     "output_type": "display_data"
    }
   ],
   "source": [
    "x <- vector(\"numeric\", length = 10)\n",
    "x"
   ]
  },
  {
   "cell_type": "code",
   "execution_count": 8,
   "metadata": {},
   "outputs": [
    {
     "data": {
      "text/html": [
       "<ol class=list-inline>\n",
       "\t<li>12</li>\n",
       "\t<li>97</li>\n",
       "\t<li>16</li>\n",
       "\t<li>35</li>\n",
       "\t<li>84</li>\n",
       "\t<li>0</li>\n",
       "\t<li>12</li>\n",
       "\t<li>97</li>\n",
       "\t<li>16</li>\n",
       "\t<li>35</li>\n",
       "\t<li>84</li>\n",
       "</ol>\n"
      ],
      "text/latex": [
       "\\begin{enumerate*}\n",
       "\\item 12\n",
       "\\item 97\n",
       "\\item 16\n",
       "\\item 35\n",
       "\\item 84\n",
       "\\item 0\n",
       "\\item 12\n",
       "\\item 97\n",
       "\\item 16\n",
       "\\item 35\n",
       "\\item 84\n",
       "\\end{enumerate*}\n"
      ],
      "text/markdown": [
       "1. 12\n",
       "2. 97\n",
       "3. 16\n",
       "4. 35\n",
       "5. 84\n",
       "6. 0\n",
       "7. 12\n",
       "8. 97\n",
       "9. 16\n",
       "10. 35\n",
       "11. 84\n",
       "\n",
       "\n"
      ],
      "text/plain": [
       " [1] 12 97 16 35 84  0 12 97 16 35 84"
      ]
     },
     "metadata": {},
     "output_type": "display_data"
    }
   ],
   "source": [
    "x = c(12,97,16,35,84)\n",
    "y <- c(x,0,x)\n",
    "y"
   ]
  },
  {
   "cell_type": "markdown",
   "metadata": {},
   "source": [
    "### Explicit Coercion"
   ]
  },
  {
   "cell_type": "code",
   "execution_count": 9,
   "metadata": {},
   "outputs": [
    {
     "data": {
      "text/html": [
       "'integer'"
      ],
      "text/latex": [
       "'integer'"
      ],
      "text/markdown": [
       "'integer'"
      ],
      "text/plain": [
       "[1] \"integer\""
      ]
     },
     "metadata": {},
     "output_type": "display_data"
    },
    {
     "data": {
      "text/html": [
       "'numeric'"
      ],
      "text/latex": [
       "'numeric'"
      ],
      "text/markdown": [
       "'numeric'"
      ],
      "text/plain": [
       "[1] \"numeric\""
      ]
     },
     "metadata": {},
     "output_type": "display_data"
    }
   ],
   "source": [
    "x = c(4L, 6L, 6L)\n",
    "class(x)\n",
    "x = as.numeric(x)\n",
    "class(x)"
   ]
  },
  {
   "cell_type": "markdown",
   "metadata": {},
   "source": [
    "### Adding elements"
   ]
  },
  {
   "cell_type": "code",
   "execution_count": 10,
   "metadata": {},
   "outputs": [
    {
     "data": {
      "text/html": [
       "<ol class=list-inline>\n",
       "\t<li>4</li>\n",
       "\t<li>6</li>\n",
       "\t<li>6</li>\n",
       "\t<li>2</li>\n",
       "</ol>\n"
      ],
      "text/latex": [
       "\\begin{enumerate*}\n",
       "\\item 4\n",
       "\\item 6\n",
       "\\item 6\n",
       "\\item 2\n",
       "\\end{enumerate*}\n"
      ],
      "text/markdown": [
       "1. 4\n",
       "2. 6\n",
       "3. 6\n",
       "4. 2\n",
       "\n",
       "\n"
      ],
      "text/plain": [
       "[1] 4 6 6 2"
      ]
     },
     "metadata": {},
     "output_type": "display_data"
    }
   ],
   "source": [
    "x <- append(x,2)\n",
    "x"
   ]
  },
  {
   "cell_type": "markdown",
   "metadata": {},
   "source": [
    "## Vector Arithmetic\n",
    "\n",
    "Vectors can be used in arithmetic expressions, in which case the operations are performed element by element. Vectors occurring in the same expression need not all be of the same length. If they are not, the value of the expression is a vector with the same length as the longest vector which occurs in the expression. Shorter vectors in the expression are recycled as often as need be (perhaps fractionally) until they match the length of the longest vector. In particular a constant is simply repeated. So with the above assignments the command\n",
    "\n"
   ]
  },
  {
   "cell_type": "code",
   "execution_count": 11,
   "metadata": {},
   "outputs": [
    {
     "name": "stderr",
     "output_type": "stream",
     "text": [
      "Warning message in x + y:\n",
      "“longer object length is not a multiple of shorter object length”"
     ]
    },
    {
     "name": "stdout",
     "output_type": "stream",
     "text": [
      " [1]  16 103  22  37  88   6  18  99  20  41  90\n"
     ]
    }
   ],
   "source": [
    "v <- x + y\n",
    "print(v)"
   ]
  },
  {
   "cell_type": "markdown",
   "metadata": {},
   "source": [
    "12+12, 97+97, 16+16, 35+35, 84+84, 12+0, 97+12 ..."
   ]
  },
  {
   "cell_type": "markdown",
   "metadata": {},
   "source": [
    "### Generating Regular Sequences"
   ]
  },
  {
   "cell_type": "code",
   "execution_count": 12,
   "metadata": {},
   "outputs": [
    {
     "name": "stdout",
     "output_type": "stream",
     "text": [
      " [1]  1  2  3  4  5  6  7  8  9 10\n",
      "[1]  6  7  8  9 10 11 12\n",
      "[1] 10 12 14 16 18 20 22 24\n",
      "[1]  15.00  36.25  57.50  78.75 100.00\n"
     ]
    }
   ],
   "source": [
    "w = seq(1,10)\n",
    "x = seq(from = 6, to = 12)\n",
    "y = seq(from = 10, to = 25, by = 2)\n",
    "z = seq(from = 15, to = 100, length = 5)\n",
    "print(w)\n",
    "print(x)\n",
    "print(y)\n",
    "print(z)"
   ]
  },
  {
   "cell_type": "markdown",
   "metadata": {},
   "source": [
    "#### rep - to repeat an object \n"
   ]
  },
  {
   "cell_type": "code",
   "execution_count": 13,
   "metadata": {},
   "outputs": [
    {
     "name": "stdout",
     "output_type": "stream",
     "text": [
      " [1]  6 41  2  5  1  6 41  2  5  1  6 41  2  5  1  6 41  2  5  1  6 41  2  5  1\n",
      " [1]  6  6  6  6  6 41 41 41 41 41  2  2  2  2  2  5  5  5  5  5  1  1  1  1  1\n"
     ]
    }
   ],
   "source": [
    "somex = c(6,41,2,5,1)\n",
    "s1 <- rep(somex, times=5)\n",
    "s2 <- rep(somex, each=5)\n",
    "print(s1)\n",
    "print(s2)"
   ]
  },
  {
   "cell_type": "code",
   "execution_count": 14,
   "metadata": {},
   "outputs": [
    {
     "name": "stdout",
     "output_type": "stream",
     "text": [
      "[1] 5\n",
      "[1]  3  4  5  6 NA\n"
     ]
    }
   ],
   "source": [
    "z <- c(3:6, NA)\n",
    "print(length(z))\n",
    "print(z)\n"
   ]
  },
  {
   "cell_type": "code",
   "execution_count": 15,
   "metadata": {},
   "outputs": [
    {
     "data": {
      "text/html": [
       "NaN"
      ],
      "text/latex": [
       "NaN"
      ],
      "text/markdown": [
       "NaN"
      ],
      "text/plain": [
       "[1] NaN"
      ]
     },
     "metadata": {},
     "output_type": "display_data"
    }
   ],
   "source": [
    "0/0"
   ]
  },
  {
   "cell_type": "markdown",
   "metadata": {},
   "source": [
    "#### paste()\n",
    "The paste() function takes an arbitrary number of arguments and concatenates them one by one into character strings"
   ]
  },
  {
   "cell_type": "code",
   "execution_count": 16,
   "metadata": {},
   "outputs": [
    {
     "data": {
      "text/html": [
       "<ol class=list-inline>\n",
       "\t<li>'x 1'</li>\n",
       "\t<li>'y 2'</li>\n",
       "\t<li>'z 3'</li>\n",
       "\t<li>'x 4'</li>\n",
       "\t<li>'y 5'</li>\n",
       "\t<li>'z 6'</li>\n",
       "\t<li>'x 7'</li>\n",
       "\t<li>'y 8'</li>\n",
       "\t<li>'z 9'</li>\n",
       "\t<li>'x 10'</li>\n",
       "</ol>\n"
      ],
      "text/latex": [
       "\\begin{enumerate*}\n",
       "\\item 'x 1'\n",
       "\\item 'y 2'\n",
       "\\item 'z 3'\n",
       "\\item 'x 4'\n",
       "\\item 'y 5'\n",
       "\\item 'z 6'\n",
       "\\item 'x 7'\n",
       "\\item 'y 8'\n",
       "\\item 'z 9'\n",
       "\\item 'x 10'\n",
       "\\end{enumerate*}\n"
      ],
      "text/markdown": [
       "1. 'x 1'\n",
       "2. 'y 2'\n",
       "3. 'z 3'\n",
       "4. 'x 4'\n",
       "5. 'y 5'\n",
       "6. 'z 6'\n",
       "7. 'x 7'\n",
       "8. 'y 8'\n",
       "9. 'z 9'\n",
       "10. 'x 10'\n",
       "\n",
       "\n"
      ],
      "text/plain": [
       " [1] \"x 1\"  \"y 2\"  \"z 3\"  \"x 4\"  \"y 5\"  \"z 6\"  \"x 7\"  \"y 8\"  \"z 9\"  \"x 10\""
      ]
     },
     "metadata": {},
     "output_type": "display_data"
    }
   ],
   "source": [
    "x <- paste(c(\"x\",\"y\",\"z\"), 1:10)\n",
    "x"
   ]
  },
  {
   "cell_type": "markdown",
   "metadata": {},
   "source": [
    "#### Names"
   ]
  },
  {
   "cell_type": "markdown",
   "metadata": {},
   "source": [
    "Acts like dictionaries"
   ]
  },
  {
   "cell_type": "code",
   "execution_count": 17,
   "metadata": {},
   "outputs": [
    {
     "data": {
      "text/html": [
       "<dl class=dl-horizontal>\n",
       "\t<dt>a</dt>\n",
       "\t\t<dd>4</dd>\n",
       "\t<dt>b</dt>\n",
       "\t\t<dd>6</dd>\n",
       "\t<dt>c</dt>\n",
       "\t\t<dd>8</dd>\n",
       "\t<dt>d</dt>\n",
       "\t\t<dd>1</dd>\n",
       "\t<dt>e</dt>\n",
       "\t\t<dd>2</dd>\n",
       "</dl>\n"
      ],
      "text/latex": [
       "\\begin{description*}\n",
       "\\item[a] 4\n",
       "\\item[b] 6\n",
       "\\item[c] 8\n",
       "\\item[d] 1\n",
       "\\item[e] 2\n",
       "\\end{description*}\n"
      ],
      "text/markdown": [
       "a\n",
       ":   4b\n",
       ":   6c\n",
       ":   8d\n",
       ":   1e\n",
       ":   2\n",
       "\n"
      ],
      "text/plain": [
       "a b c d e \n",
       "4 6 8 1 2 "
      ]
     },
     "metadata": {},
     "output_type": "display_data"
    }
   ],
   "source": [
    "x <- c(4,6,8,1,2)\n",
    "names(x) <- c(\"a\", \"b\", \"c\", \"d\", \"e\")\n",
    "x"
   ]
  },
  {
   "cell_type": "markdown",
   "metadata": {},
   "source": [
    "## Indexing"
   ]
  },
  {
   "cell_type": "code",
   "execution_count": 18,
   "metadata": {},
   "outputs": [
    {
     "name": "stdout",
     "output_type": "stream",
     "text": [
      "[1]  12  23  84  68 212  11 100\n",
      "[1]   4  12  23  84   4  68 212\n",
      " [1]   5   4   4  68 212   4  11 100   4   2   5\n",
      "b c \n",
      "6 8 \n"
     ]
    }
   ],
   "source": [
    "x = c(5,4,9,4,12,23,84,4,68,212,4,11,100,4,2,5)\n",
    "\n",
    "# Logical Indexing\n",
    "s1 <- x[x>10]\n",
    "\n",
    "#Number Indexing\n",
    "s2 <- x[4:10] #Positive Number includes\n",
    "s3 <- x[-(3:7)] #Negative Number excludes those indexes\n",
    "\n",
    "#Names Indexing\n",
    "x <- c(4,6,8,1,2)\n",
    "names(x) <- c(\"a\", \"b\", \"c\", \"d\", \"e\")\n",
    "s4 <- x[c(\"b\",\"c\")]\n",
    "\n",
    "\n",
    "print(s1)\n",
    "print(s2)\n",
    "print(s3)\n",
    "print(s4)"
   ]
  },
  {
   "cell_type": "markdown",
   "metadata": {},
   "source": [
    "### Indexing to assignment"
   ]
  },
  {
   "cell_type": "code",
   "execution_count": 19,
   "metadata": {},
   "outputs": [
    {
     "data": {
      "text/html": [
       "<dl class=dl-horizontal>\n",
       "\t<dt>a</dt>\n",
       "\t\t<dd>0</dd>\n",
       "\t<dt>b</dt>\n",
       "\t\t<dd>0</dd>\n",
       "\t<dt>c</dt>\n",
       "\t\t<dd>0</dd>\n",
       "\t<dt>d</dt>\n",
       "\t\t<dd>0</dd>\n",
       "\t<dt>e</dt>\n",
       "\t\t<dd>2</dd>\n",
       "</dl>\n"
      ],
      "text/latex": [
       "\\begin{description*}\n",
       "\\item[a] 0\n",
       "\\item[b] 0\n",
       "\\item[c] 0\n",
       "\\item[d] 0\n",
       "\\item[e] 2\n",
       "\\end{description*}\n"
      ],
      "text/markdown": [
       "a\n",
       ":   0b\n",
       ":   0c\n",
       ":   0d\n",
       ":   0e\n",
       ":   2\n",
       "\n"
      ],
      "text/plain": [
       "a b c d e \n",
       "0 0 0 0 2 "
      ]
     },
     "metadata": {},
     "output_type": "display_data"
    }
   ],
   "source": [
    "x[1:4] <- 0\n",
    "x"
   ]
  },
  {
   "cell_type": "markdown",
   "metadata": {},
   "source": [
    "### Subsetting vector"
   ]
  },
  {
   "cell_type": "code",
   "execution_count": 20,
   "metadata": {},
   "outputs": [
    {
     "data": {
      "text/html": [
       "<dl class=dl-horizontal>\n",
       "\t<dt>a</dt>\n",
       "\t\t<dd>0</dd>\n",
       "\t<dt>c</dt>\n",
       "\t\t<dd>0</dd>\n",
       "\t<dt>d</dt>\n",
       "\t\t<dd>0</dd>\n",
       "</dl>\n"
      ],
      "text/latex": [
       "\\begin{description*}\n",
       "\\item[a] 0\n",
       "\\item[c] 0\n",
       "\\item[d] 0\n",
       "\\end{description*}\n"
      ],
      "text/markdown": [
       "a\n",
       ":   0c\n",
       ":   0d\n",
       ":   0\n",
       "\n"
      ],
      "text/plain": [
       "a c d \n",
       "0 0 0 "
      ]
     },
     "metadata": {},
     "output_type": "display_data"
    }
   ],
   "source": [
    "x[c(1,3,4)]"
   ]
  },
  {
   "cell_type": "markdown",
   "metadata": {},
   "source": [
    "<a id='Factors'></a>\n",
    "\n",
    "# 3. Factors"
   ]
  },
  {
   "cell_type": "markdown",
   "metadata": {},
   "source": [
    "Factors are used to represent categorical data and can be unordered or ordered. The levels of factors give the different categories in the data. "
   ]
  },
  {
   "cell_type": "code",
   "execution_count": 21,
   "metadata": {},
   "outputs": [
    {
     "data": {
      "text/html": [
       "<ol class=list-inline>\n",
       "\t<li>'a'</li>\n",
       "\t<li>'v'</li>\n",
       "\t<li>'c'</li>\n",
       "\t<li>'v'</li>\n",
       "\t<li>'e'</li>\n",
       "\t<li>'b'</li>\n",
       "\t<li>'v'</li>\n",
       "\t<li>'a'</li>\n",
       "\t<li>'c'</li>\n",
       "\t<li>'e'</li>\n",
       "\t<li>'x'</li>\n",
       "\t<li>'b'</li>\n",
       "\t<li>'c'</li>\n",
       "\t<li>'v'</li>\n",
       "</ol>\n"
      ],
      "text/latex": [
       "\\begin{enumerate*}\n",
       "\\item 'a'\n",
       "\\item 'v'\n",
       "\\item 'c'\n",
       "\\item 'v'\n",
       "\\item 'e'\n",
       "\\item 'b'\n",
       "\\item 'v'\n",
       "\\item 'a'\n",
       "\\item 'c'\n",
       "\\item 'e'\n",
       "\\item 'x'\n",
       "\\item 'b'\n",
       "\\item 'c'\n",
       "\\item 'v'\n",
       "\\end{enumerate*}\n"
      ],
      "text/markdown": [
       "1. 'a'\n",
       "2. 'v'\n",
       "3. 'c'\n",
       "4. 'v'\n",
       "5. 'e'\n",
       "6. 'b'\n",
       "7. 'v'\n",
       "8. 'a'\n",
       "9. 'c'\n",
       "10. 'e'\n",
       "11. 'x'\n",
       "12. 'b'\n",
       "13. 'c'\n",
       "14. 'v'\n",
       "\n",
       "\n"
      ],
      "text/plain": [
       " [1] \"a\" \"v\" \"c\" \"v\" \"e\" \"b\" \"v\" \"a\" \"c\" \"e\" \"x\" \"b\" \"c\" \"v\""
      ]
     },
     "metadata": {},
     "output_type": "display_data"
    }
   ],
   "source": [
    "state <- c(\"a\",\"v\",\"c\",\"v\",\"e\",\"b\",\"v\",\"a\",\"c\",\"e\",\"x\",\"b\",\"c\",\"v\")\n",
    "state"
   ]
  },
  {
   "cell_type": "code",
   "execution_count": 22,
   "metadata": {},
   "outputs": [
    {
     "data": {
      "text/html": [
       "<ol class=list-inline>\n",
       "\t<li>'a'</li>\n",
       "\t<li>'b'</li>\n",
       "\t<li>'c'</li>\n",
       "\t<li>'e'</li>\n",
       "\t<li>'v'</li>\n",
       "\t<li>'x'</li>\n",
       "</ol>\n"
      ],
      "text/latex": [
       "\\begin{enumerate*}\n",
       "\\item 'a'\n",
       "\\item 'b'\n",
       "\\item 'c'\n",
       "\\item 'e'\n",
       "\\item 'v'\n",
       "\\item 'x'\n",
       "\\end{enumerate*}\n"
      ],
      "text/markdown": [
       "1. 'a'\n",
       "2. 'b'\n",
       "3. 'c'\n",
       "4. 'e'\n",
       "5. 'v'\n",
       "6. 'x'\n",
       "\n",
       "\n"
      ],
      "text/plain": [
       "[1] \"a\" \"b\" \"c\" \"e\" \"v\" \"x\""
      ]
     },
     "metadata": {},
     "output_type": "display_data"
    }
   ],
   "source": [
    "statefactors = factor(state)\n",
    "levels(statefactors)"
   ]
  },
  {
   "cell_type": "code",
   "execution_count": 23,
   "metadata": {},
   "outputs": [
    {
     "data": {
      "text/plain": [
       "variable\n",
       "1 2 3 4 5 6 7 8 9 \n",
       "1 2 1 5 1 3 1 2 1 "
      ]
     },
     "metadata": {},
     "output_type": "display_data"
    }
   ],
   "source": [
    "variable = factor(c(6,4,8,6,1,7,4,5,2,4,9,6,2,4,8,4,3))\n",
    "table(variable)"
   ]
  },
  {
   "cell_type": "markdown",
   "metadata": {},
   "source": [
    "#### tapply() is a function applied to subsets of a vector where the subsets are defined by some other vector (eg factors)."
   ]
  },
  {
   "cell_type": "code",
   "execution_count": 24,
   "metadata": {},
   "outputs": [
    {
     "data": {
      "text/html": [
       "<ol class=list-inline>\n",
       "\t<li>1</li>\n",
       "\t<li>3</li>\n",
       "\t<li>5</li>\n",
       "\t<li>2</li>\n",
       "\t<li>4</li>\n",
       "\t<li>6</li>\n",
       "\t<li>7</li>\n",
       "\t<li>2</li>\n",
       "\t<li>6</li>\n",
       "\t<li>8</li>\n",
       "\t<li>1</li>\n",
       "\t<li>2</li>\n",
       "\t<li>3</li>\n",
       "\t<li>12</li>\n",
       "</ol>\n"
      ],
      "text/latex": [
       "\\begin{enumerate*}\n",
       "\\item 1\n",
       "\\item 3\n",
       "\\item 5\n",
       "\\item 2\n",
       "\\item 4\n",
       "\\item 6\n",
       "\\item 7\n",
       "\\item 2\n",
       "\\item 6\n",
       "\\item 8\n",
       "\\item 1\n",
       "\\item 2\n",
       "\\item 3\n",
       "\\item 12\n",
       "\\end{enumerate*}\n"
      ],
      "text/markdown": [
       "1. 1\n",
       "2. 3\n",
       "3. 5\n",
       "4. 2\n",
       "5. 4\n",
       "6. 6\n",
       "7. 7\n",
       "8. 2\n",
       "9. 6\n",
       "10. 8\n",
       "11. 1\n",
       "12. 2\n",
       "13. 3\n",
       "14. 12\n",
       "\n",
       "\n"
      ],
      "text/plain": [
       " [1]  1  3  5  2  4  6  7  2  6  8  1  2  3 12"
      ]
     },
     "metadata": {},
     "output_type": "display_data"
    },
    {
     "data": {
      "text/plain": [
       "val\n",
       " 1  2  3  4  5  6  7  8 12 \n",
       " 2  3  2  1  1  2  1  1  1 "
      ]
     },
     "metadata": {},
     "output_type": "display_data"
    }
   ],
   "source": [
    "val <- c(1,3,5,2,4,6,7,2,6,8,1,2,3,12)\n",
    "val\n",
    "table(val)"
   ]
  },
  {
   "cell_type": "code",
   "execution_count": 25,
   "metadata": {},
   "outputs": [],
   "source": [
    "z1 =  tapply(val,statefactors,sum)\n",
    "z2 =  tapply(val,statefactors,mean)"
   ]
  },
  {
   "cell_type": "code",
   "execution_count": 26,
   "metadata": {},
   "outputs": [
    {
     "name": "stdout",
     "output_type": "stream",
     "text": [
      " a  b  c  e  v  x \n",
      " 3  8 14 12 24  1 \n",
      "       a        b        c        e        v        x \n",
      "1.500000 4.000000 4.666667 6.000000 6.000000 1.000000 \n"
     ]
    }
   ],
   "source": [
    "print(z1)\n",
    "print(z2)"
   ]
  },
  {
   "cell_type": "markdown",
   "metadata": {},
   "source": [
    "The combination of a vector and a labelling factor is an example of what is sometimes called a ragged array, since the subclass sizes are possibly irregular."
   ]
  },
  {
   "cell_type": "code",
   "execution_count": 27,
   "metadata": {},
   "outputs": [],
   "source": [
    "somefunctionname = function(x) sqrt(var(x)/length(x))"
   ]
  },
  {
   "cell_type": "code",
   "execution_count": 28,
   "metadata": {},
   "outputs": [
    {
     "name": "stdout",
     "output_type": "stream",
     "text": [
      "        a         b         c         e         v         x \n",
      "0.5000000 2.0000000 0.8819171 2.0000000 2.2730303        NA \n"
     ]
    }
   ],
   "source": [
    "z3 = tapply(val,statefactors, somefunctionname)\n",
    "print(z3)"
   ]
  },
  {
   "cell_type": "markdown",
   "metadata": {},
   "source": [
    "<a id='ArraysAndMatrices'></a>\n",
    "\n",
    "# 4. Arrays And Matrices"
   ]
  },
  {
   "cell_type": "markdown",
   "metadata": {},
   "source": [
    "An array can be considered as a multiply subscripted collection of data entries, for example numeric. \n",
    "Every array has a dimension vector, which is a vector of length 'k', where k is the dimensions of array. \n",
    "\n",
    "To create an array, use array() function"
   ]
  },
  {
   "cell_type": "markdown",
   "metadata": {},
   "source": [
    "## Creating array"
   ]
  },
  {
   "cell_type": "code",
   "execution_count": 29,
   "metadata": {},
   "outputs": [
    {
     "data": {
      "text/html": [
       "<table>\n",
       "<tbody>\n",
       "\t<tr><td> 2</td><td>14</td></tr>\n",
       "\t<tr><td> 3</td><td>15</td></tr>\n",
       "\t<tr><td> 4</td><td>16</td></tr>\n",
       "\t<tr><td> 5</td><td>17</td></tr>\n",
       "\t<tr><td> 6</td><td>18</td></tr>\n",
       "\t<tr><td> 7</td><td>19</td></tr>\n",
       "\t<tr><td> 8</td><td>20</td></tr>\n",
       "\t<tr><td> 9</td><td>21</td></tr>\n",
       "\t<tr><td>10</td><td>22</td></tr>\n",
       "\t<tr><td>11</td><td>23</td></tr>\n",
       "\t<tr><td>12</td><td>24</td></tr>\n",
       "\t<tr><td>13</td><td>25</td></tr>\n",
       "</tbody>\n",
       "</table>\n"
      ],
      "text/latex": [
       "\\begin{tabular}{ll}\n",
       "\t  2 & 14\\\\\n",
       "\t  3 & 15\\\\\n",
       "\t  4 & 16\\\\\n",
       "\t  5 & 17\\\\\n",
       "\t  6 & 18\\\\\n",
       "\t  7 & 19\\\\\n",
       "\t  8 & 20\\\\\n",
       "\t  9 & 21\\\\\n",
       "\t 10 & 22\\\\\n",
       "\t 11 & 23\\\\\n",
       "\t 12 & 24\\\\\n",
       "\t 13 & 25\\\\\n",
       "\\end{tabular}\n"
      ],
      "text/markdown": [
       "\n",
       "|  2 | 14 | \n",
       "|  3 | 15 | \n",
       "|  4 | 16 | \n",
       "|  5 | 17 | \n",
       "|  6 | 18 | \n",
       "|  7 | 19 | \n",
       "|  8 | 20 | \n",
       "|  9 | 21 | \n",
       "| 10 | 22 | \n",
       "| 11 | 23 | \n",
       "| 12 | 24 | \n",
       "| 13 | 25 | \n",
       "\n",
       "\n"
      ],
      "text/plain": [
       "      [,1] [,2]\n",
       " [1,]  2   14  \n",
       " [2,]  3   15  \n",
       " [3,]  4   16  \n",
       " [4,]  5   17  \n",
       " [5,]  6   18  \n",
       " [6,]  7   19  \n",
       " [7,]  8   20  \n",
       " [8,]  9   21  \n",
       " [9,] 10   22  \n",
       "[10,] 11   23  \n",
       "[11,] 12   24  \n",
       "[12,] 13   25  "
      ]
     },
     "metadata": {},
     "output_type": "display_data"
    }
   ],
   "source": [
    "x = 2:26\n",
    "arr <- array(x,dim <- c(12,2))\n",
    "arr"
   ]
  },
  {
   "cell_type": "code",
   "execution_count": 30,
   "metadata": {},
   "outputs": [
    {
     "data": {
      "text/html": [
       "<ol class=list-inline>\n",
       "\t<li>3</li>\n",
       "\t<li>2</li>\n",
       "\t<li>4</li>\n",
       "</ol>\n"
      ],
      "text/latex": [
       "\\begin{enumerate*}\n",
       "\\item 3\n",
       "\\item 2\n",
       "\\item 4\n",
       "\\end{enumerate*}\n"
      ],
      "text/markdown": [
       "1. 3\n",
       "2. 2\n",
       "3. 4\n",
       "\n",
       "\n"
      ],
      "text/plain": [
       "[1] 3 2 4"
      ]
     },
     "metadata": {},
     "output_type": "display_data"
    }
   ],
   "source": [
    "arr2 <- array(x,dim <- c(3,2,4))\n",
    "dim(arr2)"
   ]
  },
  {
   "cell_type": "markdown",
   "metadata": {},
   "source": [
    "#### To create an array with zeros"
   ]
  },
  {
   "cell_type": "code",
   "execution_count": 31,
   "metadata": {},
   "outputs": [
    {
     "data": {
      "text/html": [
       "<ol class=list-inline>\n",
       "\t<li>0</li>\n",
       "\t<li>0</li>\n",
       "\t<li>0</li>\n",
       "\t<li>0</li>\n",
       "\t<li>0</li>\n",
       "\t<li>0</li>\n",
       "\t<li>0</li>\n",
       "\t<li>0</li>\n",
       "\t<li>0</li>\n",
       "\t<li>0</li>\n",
       "\t<li>0</li>\n",
       "\t<li>0</li>\n",
       "\t<li>0</li>\n",
       "\t<li>0</li>\n",
       "\t<li>0</li>\n",
       "\t<li>0</li>\n",
       "\t<li>0</li>\n",
       "\t<li>0</li>\n",
       "\t<li>0</li>\n",
       "\t<li>0</li>\n",
       "\t<li>0</li>\n",
       "\t<li>0</li>\n",
       "\t<li>0</li>\n",
       "\t<li>0</li>\n",
       "\t<li>0</li>\n",
       "\t<li>0</li>\n",
       "\t<li>0</li>\n",
       "\t<li>0</li>\n",
       "\t<li>0</li>\n",
       "\t<li>0</li>\n",
       "\t<li>0</li>\n",
       "\t<li>0</li>\n",
       "\t<li>0</li>\n",
       "\t<li>0</li>\n",
       "\t<li>0</li>\n",
       "\t<li>0</li>\n",
       "\t<li>0</li>\n",
       "\t<li>0</li>\n",
       "\t<li>0</li>\n",
       "\t<li>0</li>\n",
       "</ol>\n"
      ],
      "text/latex": [
       "\\begin{enumerate*}\n",
       "\\item 0\n",
       "\\item 0\n",
       "\\item 0\n",
       "\\item 0\n",
       "\\item 0\n",
       "\\item 0\n",
       "\\item 0\n",
       "\\item 0\n",
       "\\item 0\n",
       "\\item 0\n",
       "\\item 0\n",
       "\\item 0\n",
       "\\item 0\n",
       "\\item 0\n",
       "\\item 0\n",
       "\\item 0\n",
       "\\item 0\n",
       "\\item 0\n",
       "\\item 0\n",
       "\\item 0\n",
       "\\item 0\n",
       "\\item 0\n",
       "\\item 0\n",
       "\\item 0\n",
       "\\item 0\n",
       "\\item 0\n",
       "\\item 0\n",
       "\\item 0\n",
       "\\item 0\n",
       "\\item 0\n",
       "\\item 0\n",
       "\\item 0\n",
       "\\item 0\n",
       "\\item 0\n",
       "\\item 0\n",
       "\\item 0\n",
       "\\item 0\n",
       "\\item 0\n",
       "\\item 0\n",
       "\\item 0\n",
       "\\end{enumerate*}\n"
      ],
      "text/markdown": [
       "1. 0\n",
       "2. 0\n",
       "3. 0\n",
       "4. 0\n",
       "5. 0\n",
       "6. 0\n",
       "7. 0\n",
       "8. 0\n",
       "9. 0\n",
       "10. 0\n",
       "11. 0\n",
       "12. 0\n",
       "13. 0\n",
       "14. 0\n",
       "15. 0\n",
       "16. 0\n",
       "17. 0\n",
       "18. 0\n",
       "19. 0\n",
       "20. 0\n",
       "21. 0\n",
       "22. 0\n",
       "23. 0\n",
       "24. 0\n",
       "25. 0\n",
       "26. 0\n",
       "27. 0\n",
       "28. 0\n",
       "29. 0\n",
       "30. 0\n",
       "31. 0\n",
       "32. 0\n",
       "33. 0\n",
       "34. 0\n",
       "35. 0\n",
       "36. 0\n",
       "37. 0\n",
       "38. 0\n",
       "39. 0\n",
       "40. 0\n",
       "\n",
       "\n"
      ],
      "text/plain": [
       ", , 1\n",
       "\n",
       "     [,1] [,2] [,3] [,4] [,5]\n",
       "[1,]    0    0    0    0    0\n",
       "[2,]    0    0    0    0    0\n",
       "\n",
       ", , 2\n",
       "\n",
       "     [,1] [,2] [,3] [,4] [,5]\n",
       "[1,]    0    0    0    0    0\n",
       "[2,]    0    0    0    0    0\n",
       "\n",
       ", , 3\n",
       "\n",
       "     [,1] [,2] [,3] [,4] [,5]\n",
       "[1,]    0    0    0    0    0\n",
       "[2,]    0    0    0    0    0\n",
       "\n",
       ", , 4\n",
       "\n",
       "     [,1] [,2] [,3] [,4] [,5]\n",
       "[1,]    0    0    0    0    0\n",
       "[2,]    0    0    0    0    0\n"
      ]
     },
     "metadata": {},
     "output_type": "display_data"
    }
   ],
   "source": [
    "arr <- array(0,dim <- c(2,5,4))\n",
    "arr"
   ]
  },
  {
   "cell_type": "markdown",
   "metadata": {},
   "source": [
    "## Array Arithmetic\n",
    "\n",
    "If both arrays are of same dimensions, then the dimension of new array is same"
   ]
  },
  {
   "cell_type": "code",
   "execution_count": 32,
   "metadata": {},
   "outputs": [
    {
     "data": {
      "text/html": [
       "<ol class=list-inline>\n",
       "\t<li>1</li>\n",
       "\t<li>1</li>\n",
       "\t<li>1</li>\n",
       "\t<li>1</li>\n",
       "\t<li>1</li>\n",
       "\t<li>1</li>\n",
       "\t<li>1</li>\n",
       "\t<li>1</li>\n",
       "\t<li>1</li>\n",
       "\t<li>1</li>\n",
       "\t<li>1</li>\n",
       "\t<li>1</li>\n",
       "\t<li>1</li>\n",
       "\t<li>1</li>\n",
       "\t<li>1</li>\n",
       "\t<li>1</li>\n",
       "\t<li>1</li>\n",
       "\t<li>1</li>\n",
       "\t<li>1</li>\n",
       "\t<li>1</li>\n",
       "\t<li>1</li>\n",
       "\t<li>1</li>\n",
       "\t<li>1</li>\n",
       "\t<li>1</li>\n",
       "\t<li>1</li>\n",
       "\t<li>1</li>\n",
       "\t<li>1</li>\n",
       "\t<li>1</li>\n",
       "\t<li>1</li>\n",
       "\t<li>1</li>\n",
       "\t<li>1</li>\n",
       "\t<li>1</li>\n",
       "\t<li>1</li>\n",
       "\t<li>1</li>\n",
       "\t<li>1</li>\n",
       "\t<li>1</li>\n",
       "\t<li>1</li>\n",
       "\t<li>1</li>\n",
       "\t<li>1</li>\n",
       "\t<li>1</li>\n",
       "</ol>\n"
      ],
      "text/latex": [
       "\\begin{enumerate*}\n",
       "\\item 1\n",
       "\\item 1\n",
       "\\item 1\n",
       "\\item 1\n",
       "\\item 1\n",
       "\\item 1\n",
       "\\item 1\n",
       "\\item 1\n",
       "\\item 1\n",
       "\\item 1\n",
       "\\item 1\n",
       "\\item 1\n",
       "\\item 1\n",
       "\\item 1\n",
       "\\item 1\n",
       "\\item 1\n",
       "\\item 1\n",
       "\\item 1\n",
       "\\item 1\n",
       "\\item 1\n",
       "\\item 1\n",
       "\\item 1\n",
       "\\item 1\n",
       "\\item 1\n",
       "\\item 1\n",
       "\\item 1\n",
       "\\item 1\n",
       "\\item 1\n",
       "\\item 1\n",
       "\\item 1\n",
       "\\item 1\n",
       "\\item 1\n",
       "\\item 1\n",
       "\\item 1\n",
       "\\item 1\n",
       "\\item 1\n",
       "\\item 1\n",
       "\\item 1\n",
       "\\item 1\n",
       "\\item 1\n",
       "\\end{enumerate*}\n"
      ],
      "text/markdown": [
       "1. 1\n",
       "2. 1\n",
       "3. 1\n",
       "4. 1\n",
       "5. 1\n",
       "6. 1\n",
       "7. 1\n",
       "8. 1\n",
       "9. 1\n",
       "10. 1\n",
       "11. 1\n",
       "12. 1\n",
       "13. 1\n",
       "14. 1\n",
       "15. 1\n",
       "16. 1\n",
       "17. 1\n",
       "18. 1\n",
       "19. 1\n",
       "20. 1\n",
       "21. 1\n",
       "22. 1\n",
       "23. 1\n",
       "24. 1\n",
       "25. 1\n",
       "26. 1\n",
       "27. 1\n",
       "28. 1\n",
       "29. 1\n",
       "30. 1\n",
       "31. 1\n",
       "32. 1\n",
       "33. 1\n",
       "34. 1\n",
       "35. 1\n",
       "36. 1\n",
       "37. 1\n",
       "38. 1\n",
       "39. 1\n",
       "40. 1\n",
       "\n",
       "\n"
      ],
      "text/plain": [
       ", , 1\n",
       "\n",
       "     [,1] [,2] [,3] [,4] [,5]\n",
       "[1,]    1    1    1    1    1\n",
       "[2,]    1    1    1    1    1\n",
       "\n",
       ", , 2\n",
       "\n",
       "     [,1] [,2] [,3] [,4] [,5]\n",
       "[1,]    1    1    1    1    1\n",
       "[2,]    1    1    1    1    1\n",
       "\n",
       ", , 3\n",
       "\n",
       "     [,1] [,2] [,3] [,4] [,5]\n",
       "[1,]    1    1    1    1    1\n",
       "[2,]    1    1    1    1    1\n",
       "\n",
       ", , 4\n",
       "\n",
       "     [,1] [,2] [,3] [,4] [,5]\n",
       "[1,]    1    1    1    1    1\n",
       "[2,]    1    1    1    1    1\n"
      ]
     },
     "metadata": {},
     "output_type": "display_data"
    }
   ],
   "source": [
    "arr1 <- array(0,dim <- c(2,5,4))\n",
    "arr2 <- array(1,dim <- c(2,5,4))\n",
    "arr <- arr1+arr2\n",
    "arr"
   ]
  },
  {
   "cell_type": "markdown",
   "metadata": {},
   "source": [
    "If they are of different dimensions then recycling happens"
   ]
  },
  {
   "cell_type": "markdown",
   "metadata": {},
   "source": [
    "### Generalised Change of Dimensions.\n",
    "aperm() used to interchange the dimensions of an array. Second argument defines the order of the original dimension values"
   ]
  },
  {
   "cell_type": "code",
   "execution_count": 33,
   "metadata": {},
   "outputs": [
    {
     "data": {
      "text/html": [
       "<ol class=list-inline>\n",
       "\t<li>1</li>\n",
       "\t<li>1</li>\n",
       "\t<li>1</li>\n",
       "\t<li>1</li>\n",
       "\t<li>1</li>\n",
       "\t<li>1</li>\n",
       "\t<li>1</li>\n",
       "\t<li>1</li>\n",
       "\t<li>1</li>\n",
       "\t<li>1</li>\n",
       "\t<li>1</li>\n",
       "\t<li>1</li>\n",
       "\t<li>1</li>\n",
       "\t<li>1</li>\n",
       "\t<li>1</li>\n",
       "\t<li>1</li>\n",
       "\t<li>1</li>\n",
       "\t<li>1</li>\n",
       "\t<li>1</li>\n",
       "\t<li>1</li>\n",
       "\t<li>1</li>\n",
       "\t<li>1</li>\n",
       "\t<li>1</li>\n",
       "\t<li>1</li>\n",
       "\t<li>1</li>\n",
       "\t<li>1</li>\n",
       "\t<li>1</li>\n",
       "\t<li>1</li>\n",
       "\t<li>1</li>\n",
       "\t<li>1</li>\n",
       "\t<li>1</li>\n",
       "\t<li>1</li>\n",
       "\t<li>1</li>\n",
       "\t<li>1</li>\n",
       "\t<li>1</li>\n",
       "\t<li>1</li>\n",
       "\t<li>1</li>\n",
       "\t<li>1</li>\n",
       "\t<li>1</li>\n",
       "\t<li>1</li>\n",
       "</ol>\n"
      ],
      "text/latex": [
       "\\begin{enumerate*}\n",
       "\\item 1\n",
       "\\item 1\n",
       "\\item 1\n",
       "\\item 1\n",
       "\\item 1\n",
       "\\item 1\n",
       "\\item 1\n",
       "\\item 1\n",
       "\\item 1\n",
       "\\item 1\n",
       "\\item 1\n",
       "\\item 1\n",
       "\\item 1\n",
       "\\item 1\n",
       "\\item 1\n",
       "\\item 1\n",
       "\\item 1\n",
       "\\item 1\n",
       "\\item 1\n",
       "\\item 1\n",
       "\\item 1\n",
       "\\item 1\n",
       "\\item 1\n",
       "\\item 1\n",
       "\\item 1\n",
       "\\item 1\n",
       "\\item 1\n",
       "\\item 1\n",
       "\\item 1\n",
       "\\item 1\n",
       "\\item 1\n",
       "\\item 1\n",
       "\\item 1\n",
       "\\item 1\n",
       "\\item 1\n",
       "\\item 1\n",
       "\\item 1\n",
       "\\item 1\n",
       "\\item 1\n",
       "\\item 1\n",
       "\\end{enumerate*}\n"
      ],
      "text/markdown": [
       "1. 1\n",
       "2. 1\n",
       "3. 1\n",
       "4. 1\n",
       "5. 1\n",
       "6. 1\n",
       "7. 1\n",
       "8. 1\n",
       "9. 1\n",
       "10. 1\n",
       "11. 1\n",
       "12. 1\n",
       "13. 1\n",
       "14. 1\n",
       "15. 1\n",
       "16. 1\n",
       "17. 1\n",
       "18. 1\n",
       "19. 1\n",
       "20. 1\n",
       "21. 1\n",
       "22. 1\n",
       "23. 1\n",
       "24. 1\n",
       "25. 1\n",
       "26. 1\n",
       "27. 1\n",
       "28. 1\n",
       "29. 1\n",
       "30. 1\n",
       "31. 1\n",
       "32. 1\n",
       "33. 1\n",
       "34. 1\n",
       "35. 1\n",
       "36. 1\n",
       "37. 1\n",
       "38. 1\n",
       "39. 1\n",
       "40. 1\n",
       "\n",
       "\n"
      ],
      "text/plain": [
       ", , 1\n",
       "\n",
       "     [,1] [,2]\n",
       "[1,]    1    1\n",
       "[2,]    1    1\n",
       "[3,]    1    1\n",
       "[4,]    1    1\n",
       "[5,]    1    1\n",
       "\n",
       ", , 2\n",
       "\n",
       "     [,1] [,2]\n",
       "[1,]    1    1\n",
       "[2,]    1    1\n",
       "[3,]    1    1\n",
       "[4,]    1    1\n",
       "[5,]    1    1\n",
       "\n",
       ", , 3\n",
       "\n",
       "     [,1] [,2]\n",
       "[1,]    1    1\n",
       "[2,]    1    1\n",
       "[3,]    1    1\n",
       "[4,]    1    1\n",
       "[5,]    1    1\n",
       "\n",
       ", , 4\n",
       "\n",
       "     [,1] [,2]\n",
       "[1,]    1    1\n",
       "[2,]    1    1\n",
       "[3,]    1    1\n",
       "[4,]    1    1\n",
       "[5,]    1    1\n"
      ]
     },
     "metadata": {},
     "output_type": "display_data"
    }
   ],
   "source": [
    "arr3 <- aperm(arr, c(2,1,3))\n",
    "arr3"
   ]
  },
  {
   "cell_type": "code",
   "execution_count": 34,
   "metadata": {},
   "outputs": [
    {
     "data": {
      "text/html": [
       "<ol class=list-inline>\n",
       "\t<li>3</li>\n",
       "\t<li>2</li>\n",
       "\t<li>4</li>\n",
       "</ol>\n"
      ],
      "text/latex": [
       "\\begin{enumerate*}\n",
       "\\item 3\n",
       "\\item 2\n",
       "\\item 4\n",
       "\\end{enumerate*}\n"
      ],
      "text/markdown": [
       "1. 3\n",
       "2. 2\n",
       "3. 4\n",
       "\n",
       "\n"
      ],
      "text/plain": [
       "[1] 3 2 4"
      ]
     },
     "metadata": {},
     "output_type": "display_data"
    }
   ],
   "source": [
    "x  <- array(1:24, 2:4)\n",
    "xt <- aperm(x, c(2,1,3))\n",
    "dim(xt)"
   ]
  },
  {
   "cell_type": "markdown",
   "metadata": {},
   "source": [
    "## Matrices"
   ]
  },
  {
   "cell_type": "markdown",
   "metadata": {},
   "source": [
    "A two dimensional Array. R has various functionalities for Matrices"
   ]
  },
  {
   "cell_type": "markdown",
   "metadata": {},
   "source": [
    "### Creating Matrix"
   ]
  },
  {
   "cell_type": "code",
   "execution_count": 35,
   "metadata": {},
   "outputs": [
    {
     "data": {
      "text/html": [
       "<table>\n",
       "<tbody>\n",
       "\t<tr><td>1</td><td>3</td></tr>\n",
       "\t<tr><td>2</td><td>4</td></tr>\n",
       "</tbody>\n",
       "</table>\n"
      ],
      "text/latex": [
       "\\begin{tabular}{ll}\n",
       "\t 1 & 3\\\\\n",
       "\t 2 & 4\\\\\n",
       "\\end{tabular}\n"
      ],
      "text/markdown": [
       "\n",
       "| 1 | 3 | \n",
       "| 2 | 4 | \n",
       "\n",
       "\n"
      ],
      "text/plain": [
       "     [,1] [,2]\n",
       "[1,] 1    3   \n",
       "[2,] 2    4   "
      ]
     },
     "metadata": {},
     "output_type": "display_data"
    }
   ],
   "source": [
    "y <- matrix(c(1,2,3,4),nrow=2,ncol=2)\n",
    "y"
   ]
  },
  {
   "cell_type": "markdown",
   "metadata": {},
   "source": [
    "To create empty matrix"
   ]
  },
  {
   "cell_type": "code",
   "execution_count": 36,
   "metadata": {},
   "outputs": [
    {
     "data": {
      "text/html": [
       "<table>\n",
       "<tbody>\n",
       "\t<tr><td>NA</td><td>NA</td></tr>\n",
       "\t<tr><td>NA</td><td>NA</td></tr>\n",
       "</tbody>\n",
       "</table>\n"
      ],
      "text/latex": [
       "\\begin{tabular}{ll}\n",
       "\t NA & NA\\\\\n",
       "\t NA & NA\\\\\n",
       "\\end{tabular}\n"
      ],
      "text/markdown": [
       "\n",
       "| NA | NA | \n",
       "| NA | NA | \n",
       "\n",
       "\n"
      ],
      "text/plain": [
       "     [,1] [,2]\n",
       "[1,] NA   NA  \n",
       "[2,] NA   NA  "
      ]
     },
     "metadata": {},
     "output_type": "display_data"
    }
   ],
   "source": [
    "y <- matrix(nrow=2,ncol=2)\n",
    "y"
   ]
  },
  {
   "cell_type": "markdown",
   "metadata": {},
   "source": [
    "Can also be created from an array by changing the dimensions"
   ]
  },
  {
   "cell_type": "code",
   "execution_count": 37,
   "metadata": {},
   "outputs": [
    {
     "data": {
      "text/html": [
       "<table>\n",
       "<tbody>\n",
       "\t<tr><td>1</td><td>1</td><td>1</td><td>1</td></tr>\n",
       "\t<tr><td>1</td><td>1</td><td>1</td><td>1</td></tr>\n",
       "\t<tr><td>1</td><td>1</td><td>1</td><td>1</td></tr>\n",
       "\t<tr><td>1</td><td>1</td><td>1</td><td>1</td></tr>\n",
       "\t<tr><td>1</td><td>1</td><td>1</td><td>1</td></tr>\n",
       "\t<tr><td>1</td><td>1</td><td>1</td><td>1</td></tr>\n",
       "\t<tr><td>1</td><td>1</td><td>1</td><td>1</td></tr>\n",
       "\t<tr><td>1</td><td>1</td><td>1</td><td>1</td></tr>\n",
       "\t<tr><td>1</td><td>1</td><td>1</td><td>1</td></tr>\n",
       "\t<tr><td>1</td><td>1</td><td>1</td><td>1</td></tr>\n",
       "</tbody>\n",
       "</table>\n"
      ],
      "text/latex": [
       "\\begin{tabular}{llll}\n",
       "\t 1 & 1 & 1 & 1\\\\\n",
       "\t 1 & 1 & 1 & 1\\\\\n",
       "\t 1 & 1 & 1 & 1\\\\\n",
       "\t 1 & 1 & 1 & 1\\\\\n",
       "\t 1 & 1 & 1 & 1\\\\\n",
       "\t 1 & 1 & 1 & 1\\\\\n",
       "\t 1 & 1 & 1 & 1\\\\\n",
       "\t 1 & 1 & 1 & 1\\\\\n",
       "\t 1 & 1 & 1 & 1\\\\\n",
       "\t 1 & 1 & 1 & 1\\\\\n",
       "\\end{tabular}\n"
      ],
      "text/markdown": [
       "\n",
       "| 1 | 1 | 1 | 1 | \n",
       "| 1 | 1 | 1 | 1 | \n",
       "| 1 | 1 | 1 | 1 | \n",
       "| 1 | 1 | 1 | 1 | \n",
       "| 1 | 1 | 1 | 1 | \n",
       "| 1 | 1 | 1 | 1 | \n",
       "| 1 | 1 | 1 | 1 | \n",
       "| 1 | 1 | 1 | 1 | \n",
       "| 1 | 1 | 1 | 1 | \n",
       "| 1 | 1 | 1 | 1 | \n",
       "\n",
       "\n"
      ],
      "text/plain": [
       "      [,1] [,2] [,3] [,4]\n",
       " [1,] 1    1    1    1   \n",
       " [2,] 1    1    1    1   \n",
       " [3,] 1    1    1    1   \n",
       " [4,] 1    1    1    1   \n",
       " [5,] 1    1    1    1   \n",
       " [6,] 1    1    1    1   \n",
       " [7,] 1    1    1    1   \n",
       " [8,] 1    1    1    1   \n",
       " [9,] 1    1    1    1   \n",
       "[10,] 1    1    1    1   "
      ]
     },
     "metadata": {},
     "output_type": "display_data"
    }
   ],
   "source": [
    "m1 <- arr\n",
    "dim(m1) = c(10,4)\n",
    "m1"
   ]
  },
  {
   "cell_type": "markdown",
   "metadata": {},
   "source": [
    "Matrices can be created from vectors using cbind and rbind"
   ]
  },
  {
   "cell_type": "code",
   "execution_count": 38,
   "metadata": {},
   "outputs": [
    {
     "name": "stdout",
     "output_type": "stream",
     "text": [
      "   [,1] [,2] [,3] [,4] [,5]\n",
      "x1    4    6    4    2    7\n",
      "x2   -4   -3   -2   -1    0\n",
      "     x1 x2\n",
      "[1,]  4 -4\n",
      "[2,]  6 -3\n",
      "[3,]  4 -2\n",
      "[4,]  2 -1\n",
      "[5,]  7  0\n"
     ]
    }
   ],
   "source": [
    "x1 <- c(4,6,4,2,7)\n",
    "x2 <- -4:0\n",
    "\n",
    "m1 <- rbind(x1,x2)\n",
    "m2 <- cbind(x1,x2)\n",
    "print(m1)\n",
    "print(m2)"
   ]
  },
  {
   "cell_type": "markdown",
   "metadata": {},
   "source": [
    "### Accessing and Indexing Matrix elements"
   ]
  },
  {
   "cell_type": "code",
   "execution_count": 39,
   "metadata": {},
   "outputs": [
    {
     "data": {
      "text/html": [
       "<table>\n",
       "<tbody>\n",
       "\t<tr><td>NA</td><td>NA</td><td>NA</td></tr>\n",
       "\t<tr><td>NA</td><td> 6</td><td>NA</td></tr>\n",
       "\t<tr><td>NA</td><td>NA</td><td>NA</td></tr>\n",
       "\t<tr><td>NA</td><td>NA</td><td>NA</td></tr>\n",
       "</tbody>\n",
       "</table>\n"
      ],
      "text/latex": [
       "\\begin{tabular}{lll}\n",
       "\t NA & NA & NA\\\\\n",
       "\t NA &  6 & NA\\\\\n",
       "\t NA & NA & NA\\\\\n",
       "\t NA & NA & NA\\\\\n",
       "\\end{tabular}\n"
      ],
      "text/markdown": [
       "\n",
       "| NA | NA | NA | \n",
       "| NA |  6 | NA | \n",
       "| NA | NA | NA | \n",
       "| NA | NA | NA | \n",
       "\n",
       "\n"
      ],
      "text/plain": [
       "     [,1] [,2] [,3]\n",
       "[1,] NA   NA   NA  \n",
       "[2,] NA    6   NA  \n",
       "[3,] NA   NA   NA  \n",
       "[4,] NA   NA   NA  "
      ]
     },
     "metadata": {},
     "output_type": "display_data"
    }
   ],
   "source": [
    "m1 <- matrix(nrow = 4, ncol = 3)\n",
    "m1[2,2] = 6\n",
    "m1"
   ]
  },
  {
   "cell_type": "code",
   "execution_count": 40,
   "metadata": {},
   "outputs": [
    {
     "data": {
      "text/html": [
       "<ol class=list-inline>\n",
       "\t<li>&lt;NA&gt;</li>\n",
       "\t<li>6</li>\n",
       "\t<li>&lt;NA&gt;</li>\n",
       "\t<li>&lt;NA&gt;</li>\n",
       "</ol>\n"
      ],
      "text/latex": [
       "\\begin{enumerate*}\n",
       "\\item <NA>\n",
       "\\item 6\n",
       "\\item <NA>\n",
       "\\item <NA>\n",
       "\\end{enumerate*}\n"
      ],
      "text/markdown": [
       "1. &lt;NA&gt;\n",
       "2. 6\n",
       "3. &lt;NA&gt;\n",
       "4. &lt;NA&gt;\n",
       "\n",
       "\n"
      ],
      "text/plain": [
       "[1] NA  6 NA NA"
      ]
     },
     "metadata": {},
     "output_type": "display_data"
    }
   ],
   "source": [
    "m1[,2]"
   ]
  },
  {
   "cell_type": "code",
   "execution_count": 41,
   "metadata": {},
   "outputs": [
    {
     "data": {
      "text/html": [
       "<table>\n",
       "<tbody>\n",
       "\t<tr><td>NA</td><td>NA</td></tr>\n",
       "\t<tr><td> 6</td><td>NA</td></tr>\n",
       "\t<tr><td>NA</td><td>NA</td></tr>\n",
       "\t<tr><td>NA</td><td>NA</td></tr>\n",
       "</tbody>\n",
       "</table>\n"
      ],
      "text/latex": [
       "\\begin{tabular}{ll}\n",
       "\t NA & NA\\\\\n",
       "\t  6 & NA\\\\\n",
       "\t NA & NA\\\\\n",
       "\t NA & NA\\\\\n",
       "\\end{tabular}\n"
      ],
      "text/markdown": [
       "\n",
       "| NA | NA | \n",
       "|  6 | NA | \n",
       "| NA | NA | \n",
       "| NA | NA | \n",
       "\n",
       "\n"
      ],
      "text/plain": [
       "     [,1] [,2]\n",
       "[1,] NA   NA  \n",
       "[2,]  6   NA  \n",
       "[3,] NA   NA  \n",
       "[4,] NA   NA  "
      ]
     },
     "metadata": {},
     "output_type": "display_data"
    }
   ],
   "source": [
    "m1[,2:3]"
   ]
  },
  {
   "cell_type": "markdown",
   "metadata": {},
   "source": [
    "## Naming Matrix colums and rows \n",
    "\n",
    "colnames assigns names to columns"
   ]
  },
  {
   "cell_type": "code",
   "execution_count": 42,
   "metadata": {},
   "outputs": [
    {
     "data": {
      "text/html": [
       "<table>\n",
       "<thead><tr><th scope=col>A</th><th scope=col>B</th></tr></thead>\n",
       "<tbody>\n",
       "\t<tr><td>5</td><td>6</td></tr>\n",
       "\t<tr><td>3</td><td>2</td></tr>\n",
       "\t<tr><td>5</td><td>1</td></tr>\n",
       "</tbody>\n",
       "</table>\n"
      ],
      "text/latex": [
       "\\begin{tabular}{ll}\n",
       " A & B\\\\\n",
       "\\hline\n",
       "\t 5 & 6\\\\\n",
       "\t 3 & 2\\\\\n",
       "\t 5 & 1\\\\\n",
       "\\end{tabular}\n"
      ],
      "text/markdown": [
       "\n",
       "A | B | \n",
       "|---|---|---|\n",
       "| 5 | 6 | \n",
       "| 3 | 2 | \n",
       "| 5 | 1 | \n",
       "\n",
       "\n"
      ],
      "text/plain": [
       "     A B\n",
       "[1,] 5 6\n",
       "[2,] 3 2\n",
       "[3,] 5 1"
      ]
     },
     "metadata": {},
     "output_type": "display_data"
    }
   ],
   "source": [
    "m1 <- matrix(c(5,3,5,6,2,1), nrow = 3, ncol = 2)\n",
    "colnames(m1) <- c(\"A\", \"B\")\n",
    "m1"
   ]
  },
  {
   "cell_type": "markdown",
   "metadata": {},
   "source": [
    "## Matrix Operations"
   ]
  },
  {
   "cell_type": "markdown",
   "metadata": {},
   "source": [
    "### Matrix Algebra"
   ]
  },
  {
   "cell_type": "code",
   "execution_count": 43,
   "metadata": {},
   "outputs": [],
   "source": [
    "m1 <- matrix(1, nrow=4, ncol = 3)\n",
    "m2 <- matrix(2, nrow = 4, ncol = 3)"
   ]
  },
  {
   "cell_type": "markdown",
   "metadata": {},
   "source": [
    "#### Addition and Scalar Multiplication"
   ]
  },
  {
   "cell_type": "code",
   "execution_count": 44,
   "metadata": {},
   "outputs": [
    {
     "data": {
      "text/html": [
       "<table>\n",
       "<tbody>\n",
       "\t<tr><td>7</td><td>7</td><td>7</td></tr>\n",
       "\t<tr><td>7</td><td>7</td><td>7</td></tr>\n",
       "\t<tr><td>7</td><td>7</td><td>7</td></tr>\n",
       "\t<tr><td>7</td><td>7</td><td>7</td></tr>\n",
       "</tbody>\n",
       "</table>\n"
      ],
      "text/latex": [
       "\\begin{tabular}{lll}\n",
       "\t 7 & 7 & 7\\\\\n",
       "\t 7 & 7 & 7\\\\\n",
       "\t 7 & 7 & 7\\\\\n",
       "\t 7 & 7 & 7\\\\\n",
       "\\end{tabular}\n"
      ],
      "text/markdown": [
       "\n",
       "| 7 | 7 | 7 | \n",
       "| 7 | 7 | 7 | \n",
       "| 7 | 7 | 7 | \n",
       "| 7 | 7 | 7 | \n",
       "\n",
       "\n"
      ],
      "text/plain": [
       "     [,1] [,2] [,3]\n",
       "[1,] 7    7    7   \n",
       "[2,] 7    7    7   \n",
       "[3,] 7    7    7   \n",
       "[4,] 7    7    7   "
      ]
     },
     "metadata": {},
     "output_type": "display_data"
    }
   ],
   "source": [
    "m1 + 3 * m2"
   ]
  },
  {
   "cell_type": "markdown",
   "metadata": {},
   "source": [
    "#### Matrix element wise Multiplication "
   ]
  },
  {
   "cell_type": "code",
   "execution_count": 45,
   "metadata": {},
   "outputs": [
    {
     "data": {
      "text/html": [
       "<table>\n",
       "<tbody>\n",
       "\t<tr><td>2</td><td>2</td><td>2</td></tr>\n",
       "\t<tr><td>2</td><td>2</td><td>2</td></tr>\n",
       "\t<tr><td>2</td><td>2</td><td>2</td></tr>\n",
       "\t<tr><td>2</td><td>2</td><td>2</td></tr>\n",
       "</tbody>\n",
       "</table>\n"
      ],
      "text/latex": [
       "\\begin{tabular}{lll}\n",
       "\t 2 & 2 & 2\\\\\n",
       "\t 2 & 2 & 2\\\\\n",
       "\t 2 & 2 & 2\\\\\n",
       "\t 2 & 2 & 2\\\\\n",
       "\\end{tabular}\n"
      ],
      "text/markdown": [
       "\n",
       "| 2 | 2 | 2 | \n",
       "| 2 | 2 | 2 | \n",
       "| 2 | 2 | 2 | \n",
       "| 2 | 2 | 2 | \n",
       "\n",
       "\n"
      ],
      "text/plain": [
       "     [,1] [,2] [,3]\n",
       "[1,] 2    2    2   \n",
       "[2,] 2    2    2   \n",
       "[3,] 2    2    2   \n",
       "[4,] 2    2    2   "
      ]
     },
     "metadata": {},
     "output_type": "display_data"
    }
   ],
   "source": [
    "m1 * m2"
   ]
  },
  {
   "cell_type": "markdown",
   "metadata": {},
   "source": [
    "#### Matrix Multiplication "
   ]
  },
  {
   "cell_type": "code",
   "execution_count": 46,
   "metadata": {},
   "outputs": [
    {
     "data": {
      "text/html": [
       "<table>\n",
       "<tbody>\n",
       "\t<tr><td>6</td><td>6</td><td>6</td><td>6</td></tr>\n",
       "\t<tr><td>6</td><td>6</td><td>6</td><td>6</td></tr>\n",
       "\t<tr><td>6</td><td>6</td><td>6</td><td>6</td></tr>\n",
       "\t<tr><td>6</td><td>6</td><td>6</td><td>6</td></tr>\n",
       "</tbody>\n",
       "</table>\n"
      ],
      "text/latex": [
       "\\begin{tabular}{llll}\n",
       "\t 6 & 6 & 6 & 6\\\\\n",
       "\t 6 & 6 & 6 & 6\\\\\n",
       "\t 6 & 6 & 6 & 6\\\\\n",
       "\t 6 & 6 & 6 & 6\\\\\n",
       "\\end{tabular}\n"
      ],
      "text/markdown": [
       "\n",
       "| 6 | 6 | 6 | 6 | \n",
       "| 6 | 6 | 6 | 6 | \n",
       "| 6 | 6 | 6 | 6 | \n",
       "| 6 | 6 | 6 | 6 | \n",
       "\n",
       "\n"
      ],
      "text/plain": [
       "     [,1] [,2] [,3] [,4]\n",
       "[1,] 6    6    6    6   \n",
       "[2,] 6    6    6    6   \n",
       "[3,] 6    6    6    6   \n",
       "[4,] 6    6    6    6   "
      ]
     },
     "metadata": {},
     "output_type": "display_data"
    }
   ],
   "source": [
    "m1 %*% aperm(m2, c(2,1))\n",
    "#Changing dimensions of m2 for multiplication"
   ]
  },
  {
   "cell_type": "markdown",
   "metadata": {},
   "source": [
    "### Solving Linear Equations"
   ]
  },
  {
   "cell_type": "code",
   "execution_count": 47,
   "metadata": {},
   "outputs": [],
   "source": [
    "m1 <- matrix(c(4,3,6,3,4,7,3,2,1),nrow = 3, ncol = 3)\n",
    "x1 <- c(4,6,4)\n",
    "\n",
    "b <- m1 %*% x1"
   ]
  },
  {
   "cell_type": "code",
   "execution_count": 48,
   "metadata": {},
   "outputs": [
    {
     "data": {
      "text/html": [
       "<table>\n",
       "<tbody>\n",
       "\t<tr><td>4</td></tr>\n",
       "\t<tr><td>6</td></tr>\n",
       "\t<tr><td>4</td></tr>\n",
       "</tbody>\n",
       "</table>\n"
      ],
      "text/latex": [
       "\\begin{tabular}{l}\n",
       "\t 4\\\\\n",
       "\t 6\\\\\n",
       "\t 4\\\\\n",
       "\\end{tabular}\n"
      ],
      "text/markdown": [
       "\n",
       "| 4 | \n",
       "| 6 | \n",
       "| 4 | \n",
       "\n",
       "\n"
      ],
      "text/plain": [
       "     [,1]\n",
       "[1,] 4   \n",
       "[2,] 6   \n",
       "[3,] 4   "
      ]
     },
     "metadata": {},
     "output_type": "display_data"
    }
   ],
   "source": [
    "solve(m1,b)"
   ]
  },
  {
   "cell_type": "markdown",
   "metadata": {},
   "source": [
    "### To find inverse of a matrix"
   ]
  },
  {
   "cell_type": "code",
   "execution_count": 49,
   "metadata": {},
   "outputs": [
    {
     "data": {
      "text/html": [
       "<table>\n",
       "<tbody>\n",
       "\t<tr><td> 0.4545455 </td><td>-0.8181818 </td><td> 0.27272727</td></tr>\n",
       "\t<tr><td>-0.4090909 </td><td> 0.6363636 </td><td>-0.04545455</td></tr>\n",
       "\t<tr><td> 0.1363636 </td><td> 0.4545455 </td><td>-0.31818182</td></tr>\n",
       "</tbody>\n",
       "</table>\n"
      ],
      "text/latex": [
       "\\begin{tabular}{lll}\n",
       "\t  0.4545455  & -0.8181818  &  0.27272727\\\\\n",
       "\t -0.4090909  &  0.6363636  & -0.04545455\\\\\n",
       "\t  0.1363636  &  0.4545455  & -0.31818182\\\\\n",
       "\\end{tabular}\n"
      ],
      "text/markdown": [
       "\n",
       "|  0.4545455  | -0.8181818  |  0.27272727 | \n",
       "| -0.4090909  |  0.6363636  | -0.04545455 | \n",
       "|  0.1363636  |  0.4545455  | -0.31818182 | \n",
       "\n",
       "\n"
      ],
      "text/plain": [
       "     [,1]       [,2]       [,3]       \n",
       "[1,]  0.4545455 -0.8181818  0.27272727\n",
       "[2,] -0.4090909  0.6363636 -0.04545455\n",
       "[3,]  0.1363636  0.4545455 -0.31818182"
      ]
     },
     "metadata": {},
     "output_type": "display_data"
    }
   ],
   "source": [
    "solve(m1)"
   ]
  },
  {
   "cell_type": "markdown",
   "metadata": {},
   "source": [
    "### apply() function\n",
    "apply function performs any function on the matrix. The 4 arguments are:\n",
    "1. matrix variable\n",
    "2. dimcode - 1 for rowwise, 2 for columnwise\n",
    "3. function to apply\n",
    "4. Optional Arguments to function"
   ]
  },
  {
   "cell_type": "code",
   "execution_count": 50,
   "metadata": {},
   "outputs": [
    {
     "data": {
      "text/html": [
       "<ol class=list-inline>\n",
       "\t<li>3.33333333333333</li>\n",
       "\t<li>3</li>\n",
       "\t<li>4.66666666666667</li>\n",
       "</ol>\n"
      ],
      "text/latex": [
       "\\begin{enumerate*}\n",
       "\\item 3.33333333333333\n",
       "\\item 3\n",
       "\\item 4.66666666666667\n",
       "\\end{enumerate*}\n"
      ],
      "text/markdown": [
       "1. 3.33333333333333\n",
       "2. 3\n",
       "3. 4.66666666666667\n",
       "\n",
       "\n"
      ],
      "text/plain": [
       "[1] 3.333333 3.000000 4.666667"
      ]
     },
     "metadata": {},
     "output_type": "display_data"
    }
   ],
   "source": [
    "apply(m1, 1, mean)"
   ]
  },
  {
   "cell_type": "markdown",
   "metadata": {},
   "source": [
    "### EigenValues and EigenVectors\n",
    "\n",
    "eigen() returns a list containing eigenvalues and eigenvectors.\n",
    "To get only eigenvalues\n",
    "eigen()$values"
   ]
  },
  {
   "cell_type": "code",
   "execution_count": 51,
   "metadata": {},
   "outputs": [
    {
     "data": {
      "text/html": [
       "<ol class=list-inline>\n",
       "\t<li>10.4279237454064</li>\n",
       "\t<li>-2.33243696498003</li>\n",
       "\t<li>0.904513219573599</li>\n",
       "</ol>\n"
      ],
      "text/latex": [
       "\\begin{enumerate*}\n",
       "\\item 10.4279237454064\n",
       "\\item -2.33243696498003\n",
       "\\item 0.904513219573599\n",
       "\\end{enumerate*}\n"
      ],
      "text/markdown": [
       "1. 10.4279237454064\n",
       "2. -2.33243696498003\n",
       "3. 0.904513219573599\n",
       "\n",
       "\n"
      ],
      "text/plain": [
       "[1] 10.4279237 -2.3324370  0.9045132"
      ]
     },
     "metadata": {},
     "output_type": "display_data"
    }
   ],
   "source": [
    "em <- eigen(m1)\n",
    "em$values"
   ]
  },
  {
   "cell_type": "code",
   "execution_count": 52,
   "metadata": {},
   "outputs": [
    {
     "name": "stdout",
     "output_type": "stream",
     "text": [
      "[1] 10.4279237 -2.3324370  0.9045132\n",
      "           [,1]       [,2]       [,3]\n",
      "[1,] -0.5438422 -0.3833437 -0.7533668\n",
      "[2,] -0.4701092 -0.1080921  0.6439230\n",
      "[3,] -0.6951496  0.9172588  0.1334227\n"
     ]
    }
   ],
   "source": [
    "eigval <- eigen(m1)$val\n",
    "eigvec <- eigen(m1)$vec\n",
    "print(eigval)\n",
    "print(eigvec)"
   ]
  },
  {
   "cell_type": "markdown",
   "metadata": {},
   "source": [
    "For large Matrices, to avoid computing eigenvectors itself, only eigenvalues can be found using"
   ]
  },
  {
   "cell_type": "code",
   "execution_count": 53,
   "metadata": {},
   "outputs": [
    {
     "data": {
      "text/html": [
       "<ol class=list-inline>\n",
       "\t<li>10.4279237454064</li>\n",
       "\t<li>-2.33243696498003</li>\n",
       "\t<li>0.904513219573599</li>\n",
       "</ol>\n"
      ],
      "text/latex": [
       "\\begin{enumerate*}\n",
       "\\item 10.4279237454064\n",
       "\\item -2.33243696498003\n",
       "\\item 0.904513219573599\n",
       "\\end{enumerate*}\n"
      ],
      "text/markdown": [
       "1. 10.4279237454064\n",
       "2. -2.33243696498003\n",
       "3. 0.904513219573599\n",
       "\n",
       "\n"
      ],
      "text/plain": [
       "[1] 10.4279237 -2.3324370  0.9045132"
      ]
     },
     "metadata": {},
     "output_type": "display_data"
    }
   ],
   "source": [
    "evals <- eigen(m1, only.values = TRUE)$values\n",
    "evals"
   ]
  },
  {
   "cell_type": "markdown",
   "metadata": {},
   "source": [
    "<a id='Lists'></a>\n",
    "\n",
    "# 5. Lists"
   ]
  },
  {
   "cell_type": "markdown",
   "metadata": {},
   "source": [
    "An R list is an object consisting of an ordered collection of objects known as its components. <br>\n",
    "In contrast to a vector, in which all elements must be of the same mode, R’s list structure can combine objects of different types. Lists are referred to as recursive vectors. Lists are different from atomic vectors because their elements can be of any type, including lists. Lists can be constructed by using list() instead of c(): "
   ]
  },
  {
   "cell_type": "code",
   "execution_count": 54,
   "metadata": {
    "scrolled": true
   },
   "outputs": [
    {
     "data": {
      "text/html": [
       "<ol>\n",
       "\t<li><ol class=list-inline>\n",
       "\t<li>1</li>\n",
       "\t<li>2</li>\n",
       "\t<li>3</li>\n",
       "</ol>\n",
       "</li>\n",
       "\t<li>'a'</li>\n",
       "\t<li><ol class=list-inline>\n",
       "\t<li>TRUE</li>\n",
       "\t<li>FALSE</li>\n",
       "\t<li>TRUE</li>\n",
       "</ol>\n",
       "</li>\n",
       "\t<li><ol class=list-inline>\n",
       "\t<li>2.3</li>\n",
       "\t<li>5.9</li>\n",
       "</ol>\n",
       "</li>\n",
       "</ol>\n"
      ],
      "text/latex": [
       "\\begin{enumerate}\n",
       "\\item \\begin{enumerate*}\n",
       "\\item 1\n",
       "\\item 2\n",
       "\\item 3\n",
       "\\end{enumerate*}\n",
       "\n",
       "\\item 'a'\n",
       "\\item \\begin{enumerate*}\n",
       "\\item TRUE\n",
       "\\item FALSE\n",
       "\\item TRUE\n",
       "\\end{enumerate*}\n",
       "\n",
       "\\item \\begin{enumerate*}\n",
       "\\item 2.3\n",
       "\\item 5.9\n",
       "\\end{enumerate*}\n",
       "\n",
       "\\end{enumerate}\n"
      ],
      "text/markdown": [
       "1. 1. 1\n",
       "2. 2\n",
       "3. 3\n",
       "\n",
       "\n",
       "\n",
       "2. 'a'\n",
       "3. 1. TRUE\n",
       "2. FALSE\n",
       "3. TRUE\n",
       "\n",
       "\n",
       "\n",
       "4. 1. 2.3\n",
       "2. 5.9\n",
       "\n",
       "\n",
       "\n",
       "\n",
       "\n"
      ],
      "text/plain": [
       "[[1]]\n",
       "[1] 1 2 3\n",
       "\n",
       "[[2]]\n",
       "[1] \"a\"\n",
       "\n",
       "[[3]]\n",
       "[1]  TRUE FALSE  TRUE\n",
       "\n",
       "[[4]]\n",
       "[1] 2.3 5.9\n"
      ]
     },
     "metadata": {},
     "output_type": "display_data"
    }
   ],
   "source": [
    "x <- list(1:3, \"a\", c(TRUE, FALSE, TRUE), c(2.3, 5.9))\n",
    "x"
   ]
  },
  {
   "cell_type": "markdown",
   "metadata": {},
   "source": [
    "Components are always numbered and may always be referred to as such. \n",
    "Components of lists may also be named. The component names—called tags in the R literature are optional. The list components are denoted by $ symbol"
   ]
  },
  {
   "cell_type": "code",
   "execution_count": 55,
   "metadata": {},
   "outputs": [
    {
     "name": "stdout",
     "output_type": "stream",
     "text": [
      "$name\n",
      "[1] \"Fred\"\n",
      "\n",
      "$wife\n",
      "[1] \"Mary\"\n",
      "\n",
      "$no.children\n",
      "[1] 3\n",
      "\n",
      "$child.ages\n",
      "[1] 4 7 9\n",
      "\n",
      "[1] \"Fred\"\n"
     ]
    }
   ],
   "source": [
    "Lst <- list(name=\"Fred\", wife=\"Mary\", no.children=3,\n",
    "              child.ages=c(4,7,9))\n",
    "print(Lst)\n",
    "print(Lst$name)"
   ]
  },
  {
   "cell_type": "markdown",
   "metadata": {},
   "source": [
    "## List Operations"
   ]
  },
  {
   "cell_type": "markdown",
   "metadata": {},
   "source": [
    "### Indexing"
   ]
  },
  {
   "cell_type": "code",
   "execution_count": 56,
   "metadata": {},
   "outputs": [
    {
     "data": {
      "text/html": [
       "<dl>\n",
       "\t<dt>$name</dt>\n",
       "\t\t<dd>'Fred'</dd>\n",
       "\t<dt>$wife</dt>\n",
       "\t\t<dd>'Mary'</dd>\n",
       "\t<dt>$no.children</dt>\n",
       "\t\t<dd>5</dd>\n",
       "\t<dt>$child.ages</dt>\n",
       "\t\t<dd><ol class=list-inline>\n",
       "\t<li>4</li>\n",
       "\t<li>7</li>\n",
       "\t<li>9</li>\n",
       "</ol>\n",
       "</dd>\n",
       "</dl>\n"
      ],
      "text/latex": [
       "\\begin{description}\n",
       "\\item[\\$name] 'Fred'\n",
       "\\item[\\$wife] 'Mary'\n",
       "\\item[\\$no.children] 5\n",
       "\\item[\\$child.ages] \\begin{enumerate*}\n",
       "\\item 4\n",
       "\\item 7\n",
       "\\item 9\n",
       "\\end{enumerate*}\n",
       "\n",
       "\\end{description}\n"
      ],
      "text/markdown": [
       "$name\n",
       ":   'Fred'\n",
       "$wife\n",
       ":   'Mary'\n",
       "$no.children\n",
       ":   5\n",
       "$child.ages\n",
       ":   1. 4\n",
       "2. 7\n",
       "3. 9\n",
       "\n",
       "\n",
       "\n",
       "\n",
       "\n"
      ],
      "text/plain": [
       "$name\n",
       "[1] \"Fred\"\n",
       "\n",
       "$wife\n",
       "[1] \"Mary\"\n",
       "\n",
       "$no.children\n",
       "[1] 5\n",
       "\n",
       "$child.ages\n",
       "[1] 4 7 9\n"
      ]
     },
     "metadata": {},
     "output_type": "display_data"
    }
   ],
   "source": [
    "Lst[3] <- 5\n",
    "Lst"
   ]
  },
  {
   "cell_type": "markdown",
   "metadata": {},
   "source": [
    "### Adding element"
   ]
  },
  {
   "cell_type": "code",
   "execution_count": 57,
   "metadata": {},
   "outputs": [
    {
     "data": {
      "text/html": [
       "<dl>\n",
       "\t<dt>$name</dt>\n",
       "\t\t<dd>'Fred'</dd>\n",
       "\t<dt>$wife</dt>\n",
       "\t\t<dd>'Mary'</dd>\n",
       "\t<dt>$no.children</dt>\n",
       "\t\t<dd>5</dd>\n",
       "\t<dt>$child.ages</dt>\n",
       "\t\t<dd><ol class=list-inline>\n",
       "\t<li>4</li>\n",
       "\t<li>7</li>\n",
       "\t<li>9</li>\n",
       "</ol>\n",
       "</dd>\n",
       "\t<dt>$ParentAges</dt>\n",
       "\t\t<dd><ol class=list-inline>\n",
       "\t<li>68</li>\n",
       "\t<li>72</li>\n",
       "</ol>\n",
       "</dd>\n",
       "</dl>\n"
      ],
      "text/latex": [
       "\\begin{description}\n",
       "\\item[\\$name] 'Fred'\n",
       "\\item[\\$wife] 'Mary'\n",
       "\\item[\\$no.children] 5\n",
       "\\item[\\$child.ages] \\begin{enumerate*}\n",
       "\\item 4\n",
       "\\item 7\n",
       "\\item 9\n",
       "\\end{enumerate*}\n",
       "\n",
       "\\item[\\$ParentAges] \\begin{enumerate*}\n",
       "\\item 68\n",
       "\\item 72\n",
       "\\end{enumerate*}\n",
       "\n",
       "\\end{description}\n"
      ],
      "text/markdown": [
       "$name\n",
       ":   'Fred'\n",
       "$wife\n",
       ":   'Mary'\n",
       "$no.children\n",
       ":   5\n",
       "$child.ages\n",
       ":   1. 4\n",
       "2. 7\n",
       "3. 9\n",
       "\n",
       "\n",
       "\n",
       "$ParentAges\n",
       ":   1. 68\n",
       "2. 72\n",
       "\n",
       "\n",
       "\n",
       "\n",
       "\n"
      ],
      "text/plain": [
       "$name\n",
       "[1] \"Fred\"\n",
       "\n",
       "$wife\n",
       "[1] \"Mary\"\n",
       "\n",
       "$no.children\n",
       "[1] 5\n",
       "\n",
       "$child.ages\n",
       "[1] 4 7 9\n",
       "\n",
       "$ParentAges\n",
       "[1] 68 72\n"
      ]
     },
     "metadata": {},
     "output_type": "display_data"
    }
   ],
   "source": [
    "Lst$ParentAges = c(68,72)\n",
    "Lst"
   ]
  },
  {
   "cell_type": "markdown",
   "metadata": {},
   "source": [
    "### Length of list"
   ]
  },
  {
   "cell_type": "code",
   "execution_count": 58,
   "metadata": {},
   "outputs": [
    {
     "data": {
      "text/html": [
       "5"
      ],
      "text/latex": [
       "5"
      ],
      "text/markdown": [
       "5"
      ],
      "text/plain": [
       "[1] 5"
      ]
     },
     "metadata": {},
     "output_type": "display_data"
    }
   ],
   "source": [
    "length(Lst)"
   ]
  },
  {
   "cell_type": "markdown",
   "metadata": {},
   "source": [
    "### Deleting element"
   ]
  },
  {
   "cell_type": "code",
   "execution_count": 59,
   "metadata": {},
   "outputs": [
    {
     "data": {
      "text/html": [
       "<dl>\n",
       "\t<dt>$name</dt>\n",
       "\t\t<dd>'Fred'</dd>\n",
       "\t<dt>$wife</dt>\n",
       "\t\t<dd>'Mary'</dd>\n",
       "\t<dt>$child.ages</dt>\n",
       "\t\t<dd><ol class=list-inline>\n",
       "\t<li>4</li>\n",
       "\t<li>7</li>\n",
       "\t<li>9</li>\n",
       "</ol>\n",
       "</dd>\n",
       "\t<dt>$ParentAges</dt>\n",
       "\t\t<dd><ol class=list-inline>\n",
       "\t<li>68</li>\n",
       "\t<li>72</li>\n",
       "</ol>\n",
       "</dd>\n",
       "</dl>\n"
      ],
      "text/latex": [
       "\\begin{description}\n",
       "\\item[\\$name] 'Fred'\n",
       "\\item[\\$wife] 'Mary'\n",
       "\\item[\\$child.ages] \\begin{enumerate*}\n",
       "\\item 4\n",
       "\\item 7\n",
       "\\item 9\n",
       "\\end{enumerate*}\n",
       "\n",
       "\\item[\\$ParentAges] \\begin{enumerate*}\n",
       "\\item 68\n",
       "\\item 72\n",
       "\\end{enumerate*}\n",
       "\n",
       "\\end{description}\n"
      ],
      "text/markdown": [
       "$name\n",
       ":   'Fred'\n",
       "$wife\n",
       ":   'Mary'\n",
       "$child.ages\n",
       ":   1. 4\n",
       "2. 7\n",
       "3. 9\n",
       "\n",
       "\n",
       "\n",
       "$ParentAges\n",
       ":   1. 68\n",
       "2. 72\n",
       "\n",
       "\n",
       "\n",
       "\n",
       "\n"
      ],
      "text/plain": [
       "$name\n",
       "[1] \"Fred\"\n",
       "\n",
       "$wife\n",
       "[1] \"Mary\"\n",
       "\n",
       "$child.ages\n",
       "[1] 4 7 9\n",
       "\n",
       "$ParentAges\n",
       "[1] 68 72\n"
      ]
     },
     "metadata": {},
     "output_type": "display_data"
    }
   ],
   "source": [
    "Lst$\"no.children\" = NULL\n",
    "Lst"
   ]
  },
  {
   "cell_type": "markdown",
   "metadata": {},
   "source": [
    "### Getting Names "
   ]
  },
  {
   "cell_type": "code",
   "execution_count": 60,
   "metadata": {},
   "outputs": [
    {
     "data": {
      "text/html": [
       "<ol class=list-inline>\n",
       "\t<li>'name'</li>\n",
       "\t<li>'wife'</li>\n",
       "\t<li>'child.ages'</li>\n",
       "\t<li>'ParentAges'</li>\n",
       "</ol>\n"
      ],
      "text/latex": [
       "\\begin{enumerate*}\n",
       "\\item 'name'\n",
       "\\item 'wife'\n",
       "\\item 'child.ages'\n",
       "\\item 'ParentAges'\n",
       "\\end{enumerate*}\n"
      ],
      "text/markdown": [
       "1. 'name'\n",
       "2. 'wife'\n",
       "3. 'child.ages'\n",
       "4. 'ParentAges'\n",
       "\n",
       "\n"
      ],
      "text/plain": [
       "[1] \"name\"       \"wife\"       \"child.ages\" \"ParentAges\""
      ]
     },
     "metadata": {},
     "output_type": "display_data"
    }
   ],
   "source": [
    "names(Lst)"
   ]
  },
  {
   "cell_type": "markdown",
   "metadata": {},
   "source": [
    "### Removing NA Values\n",
    "\n",
    "Using complete.cases()"
   ]
  },
  {
   "cell_type": "code",
   "execution_count": 61,
   "metadata": {},
   "outputs": [
    {
     "data": {
      "text/html": [
       "<ol class=list-inline>\n",
       "\t<li>TRUE</li>\n",
       "\t<li>TRUE</li>\n",
       "\t<li>FALSE</li>\n",
       "\t<li>TRUE</li>\n",
       "\t<li>FALSE</li>\n",
       "\t<li>TRUE</li>\n",
       "</ol>\n"
      ],
      "text/latex": [
       "\\begin{enumerate*}\n",
       "\\item TRUE\n",
       "\\item TRUE\n",
       "\\item FALSE\n",
       "\\item TRUE\n",
       "\\item FALSE\n",
       "\\item TRUE\n",
       "\\end{enumerate*}\n"
      ],
      "text/markdown": [
       "1. TRUE\n",
       "2. TRUE\n",
       "3. FALSE\n",
       "4. TRUE\n",
       "5. FALSE\n",
       "6. TRUE\n",
       "\n",
       "\n"
      ],
      "text/plain": [
       "[1]  TRUE  TRUE FALSE  TRUE FALSE  TRUE"
      ]
     },
     "metadata": {},
     "output_type": "display_data"
    },
    {
     "data": {
      "text/html": [
       "<ol class=list-inline>\n",
       "\t<li>1</li>\n",
       "\t<li>2</li>\n",
       "\t<li>4</li>\n",
       "\t<li>5</li>\n",
       "</ol>\n"
      ],
      "text/latex": [
       "\\begin{enumerate*}\n",
       "\\item 1\n",
       "\\item 2\n",
       "\\item 4\n",
       "\\item 5\n",
       "\\end{enumerate*}\n"
      ],
      "text/markdown": [
       "1. 1\n",
       "2. 2\n",
       "3. 4\n",
       "4. 5\n",
       "\n",
       "\n"
      ],
      "text/plain": [
       "[1] 1 2 4 5"
      ]
     },
     "metadata": {},
     "output_type": "display_data"
    }
   ],
   "source": [
    "x <- c(1, 2, NA, 4, NA, 5)\n",
    "gd <- complete.cases(x)\n",
    "gd\n",
    "x[gd]"
   ]
  },
  {
   "cell_type": "markdown",
   "metadata": {},
   "source": [
    "### Concatenating Lists"
   ]
  },
  {
   "cell_type": "code",
   "execution_count": 62,
   "metadata": {},
   "outputs": [
    {
     "data": {
      "text/html": [
       "<ol>\n",
       "\t<li><dl>\n",
       "\t<dt>$name</dt>\n",
       "\t\t<dd>'Fred'</dd>\n",
       "\t<dt>$wife</dt>\n",
       "\t\t<dd>'Mary'</dd>\n",
       "\t<dt>$child.ages</dt>\n",
       "\t\t<dd><ol class=list-inline>\n",
       "\t<li>4</li>\n",
       "\t<li>7</li>\n",
       "\t<li>9</li>\n",
       "</ol>\n",
       "</dd>\n",
       "\t<dt>$ParentAges</dt>\n",
       "\t\t<dd><ol class=list-inline>\n",
       "\t<li>68</li>\n",
       "\t<li>72</li>\n",
       "</ol>\n",
       "</dd>\n",
       "</dl>\n",
       "</li>\n",
       "\t<li><ol>\n",
       "\t<li>34</li>\n",
       "\t<li>'fgdb'</li>\n",
       "</ol>\n",
       "</li>\n",
       "</ol>\n"
      ],
      "text/latex": [
       "\\begin{enumerate}\n",
       "\\item \\begin{description}\n",
       "\\item[\\$name] 'Fred'\n",
       "\\item[\\$wife] 'Mary'\n",
       "\\item[\\$child.ages] \\begin{enumerate*}\n",
       "\\item 4\n",
       "\\item 7\n",
       "\\item 9\n",
       "\\end{enumerate*}\n",
       "\n",
       "\\item[\\$ParentAges] \\begin{enumerate*}\n",
       "\\item 68\n",
       "\\item 72\n",
       "\\end{enumerate*}\n",
       "\n",
       "\\end{description}\n",
       "\n",
       "\\item \\begin{enumerate}\n",
       "\\item 34\n",
       "\\item 'fgdb'\n",
       "\\end{enumerate}\n",
       "\n",
       "\\end{enumerate}\n"
      ],
      "text/markdown": [
       "1. $name\n",
       ":   'Fred'\n",
       "$wife\n",
       ":   'Mary'\n",
       "$child.ages\n",
       ":   1. 4\n",
       "2. 7\n",
       "3. 9\n",
       "\n",
       "\n",
       "\n",
       "$ParentAges\n",
       ":   1. 68\n",
       "2. 72\n",
       "\n",
       "\n",
       "\n",
       "\n",
       "\n",
       "\n",
       "2. 1. 34\n",
       "2. 'fgdb'\n",
       "\n",
       "\n",
       "\n",
       "\n",
       "\n"
      ],
      "text/plain": [
       "[[1]]\n",
       "[[1]]$name\n",
       "[1] \"Fred\"\n",
       "\n",
       "[[1]]$wife\n",
       "[1] \"Mary\"\n",
       "\n",
       "[[1]]$child.ages\n",
       "[1] 4 7 9\n",
       "\n",
       "[[1]]$ParentAges\n",
       "[1] 68 72\n",
       "\n",
       "\n",
       "[[2]]\n",
       "[[2]][[1]]\n",
       "[1] 34\n",
       "\n",
       "[[2]][[2]]\n",
       "[1] \"fgdb\"\n",
       "\n"
      ]
     },
     "metadata": {},
     "output_type": "display_data"
    }
   ],
   "source": [
    "lst2 <- list(34,'fgdb')\n",
    "masterlist <- list(Lst,lst2)\n",
    "masterlist"
   ]
  },
  {
   "cell_type": "markdown",
   "metadata": {},
   "source": [
    "### List to Array"
   ]
  },
  {
   "cell_type": "markdown",
   "metadata": {},
   "source": [
    "Unlist converts the list to a vector. If all elements of the list are of same mode, then it converts it into a vector of the same mode. Else, it chooses the highest mode and assigns all classes to that"
   ]
  },
  {
   "cell_type": "code",
   "execution_count": 63,
   "metadata": {},
   "outputs": [],
   "source": [
    "x <- unlist(masterlist, use.names=FALSE)"
   ]
  },
  {
   "cell_type": "code",
   "execution_count": 64,
   "metadata": {},
   "outputs": [
    {
     "data": {
      "text/html": [
       "'character'"
      ],
      "text/latex": [
       "'character'"
      ],
      "text/markdown": [
       "'character'"
      ],
      "text/plain": [
       "[1] \"character\""
      ]
     },
     "metadata": {},
     "output_type": "display_data"
    }
   ],
   "source": [
    "mode(x)"
   ]
  },
  {
   "cell_type": "code",
   "execution_count": 65,
   "metadata": {},
   "outputs": [
    {
     "data": {
      "text/html": [
       "<ol class=list-inline>\n",
       "\t<li>'Fred'</li>\n",
       "\t<li>'Mary'</li>\n",
       "\t<li>'4'</li>\n",
       "\t<li>'7'</li>\n",
       "\t<li>'9'</li>\n",
       "\t<li>'68'</li>\n",
       "\t<li>'72'</li>\n",
       "\t<li>'34'</li>\n",
       "\t<li>'fgdb'</li>\n",
       "</ol>\n"
      ],
      "text/latex": [
       "\\begin{enumerate*}\n",
       "\\item 'Fred'\n",
       "\\item 'Mary'\n",
       "\\item '4'\n",
       "\\item '7'\n",
       "\\item '9'\n",
       "\\item '68'\n",
       "\\item '72'\n",
       "\\item '34'\n",
       "\\item 'fgdb'\n",
       "\\end{enumerate*}\n"
      ],
      "text/markdown": [
       "1. 'Fred'\n",
       "2. 'Mary'\n",
       "3. '4'\n",
       "4. '7'\n",
       "5. '9'\n",
       "6. '68'\n",
       "7. '72'\n",
       "8. '34'\n",
       "9. 'fgdb'\n",
       "\n",
       "\n"
      ],
      "text/plain": [
       "[1] \"Fred\" \"Mary\" \"4\"    \"7\"    \"9\"    \"68\"   \"72\"   \"34\"   \"fgdb\""
      ]
     },
     "metadata": {},
     "output_type": "display_data"
    }
   ],
   "source": [
    "x"
   ]
  },
  {
   "cell_type": "markdown",
   "metadata": {},
   "source": [
    "<a id='DataFrames'></a>\n",
    "\n",
    "# 6. DataFrames"
   ]
  },
  {
   "cell_type": "markdown",
   "metadata": {},
   "source": [
    "A data frame is like a matrix, with a two-dimensional rows-and-columns structure. However, it differs from a matrix in that each column may have a different mode. <br>\n",
    "On a technical level, a data frame is a list, with the components of that list being equal-length vectors. <br>\n",
    "A data frame is a list with class \"data.frame\"."
   ]
  },
  {
   "cell_type": "markdown",
   "metadata": {},
   "source": [
    "## Create Dataframe"
   ]
  },
  {
   "cell_type": "code",
   "execution_count": 66,
   "metadata": {},
   "outputs": [
    {
     "data": {
      "text/html": [
       "<table>\n",
       "<thead><tr><th scope=col>st</th><th scope=col>val</th></tr></thead>\n",
       "<tbody>\n",
       "\t<tr><td>a</td><td>6</td></tr>\n",
       "\t<tr><td>b</td><td>3</td></tr>\n",
       "\t<tr><td>c</td><td>1</td></tr>\n",
       "</tbody>\n",
       "</table>\n"
      ],
      "text/latex": [
       "\\begin{tabular}{r|ll}\n",
       " st & val\\\\\n",
       "\\hline\n",
       "\t a & 6\\\\\n",
       "\t b & 3\\\\\n",
       "\t c & 1\\\\\n",
       "\\end{tabular}\n"
      ],
      "text/markdown": [
       "\n",
       "st | val | \n",
       "|---|---|---|\n",
       "| a | 6 | \n",
       "| b | 3 | \n",
       "| c | 1 | \n",
       "\n",
       "\n"
      ],
      "text/plain": [
       "  st val\n",
       "1 a  6  \n",
       "2 b  3  \n",
       "3 c  1  "
      ]
     },
     "metadata": {},
     "output_type": "display_data"
    }
   ],
   "source": [
    "lst1 <- c(\"a\", \"b\", \"c\")\n",
    "lst2 <- c(6,3,1)\n",
    "df <- data.frame(st = lst1,val = lst2)\n",
    "df"
   ]
  },
  {
   "cell_type": "markdown",
   "metadata": {},
   "source": [
    "DataFrame can also be created by coercing a list that conforms to the conditions of a dataframe, using as.data.frame()"
   ]
  },
  {
   "cell_type": "markdown",
   "metadata": {},
   "source": [
    "## Accessing DataFrames"
   ]
  },
  {
   "cell_type": "markdown",
   "metadata": {},
   "source": [
    "    Dataframes can be accessed either using index values or can be accessed by component names"
   ]
  },
  {
   "cell_type": "code",
   "execution_count": 67,
   "metadata": {},
   "outputs": [
    {
     "data": {
      "text/html": [
       "<table>\n",
       "<thead><tr><th scope=col>st</th></tr></thead>\n",
       "<tbody>\n",
       "\t<tr><td>a</td></tr>\n",
       "\t<tr><td>b</td></tr>\n",
       "\t<tr><td>c</td></tr>\n",
       "</tbody>\n",
       "</table>\n"
      ],
      "text/latex": [
       "\\begin{tabular}{r|l}\n",
       " st\\\\\n",
       "\\hline\n",
       "\t a\\\\\n",
       "\t b\\\\\n",
       "\t c\\\\\n",
       "\\end{tabular}\n"
      ],
      "text/markdown": [
       "\n",
       "st | \n",
       "|---|---|---|\n",
       "| a | \n",
       "| b | \n",
       "| c | \n",
       "\n",
       "\n"
      ],
      "text/plain": [
       "  st\n",
       "1 a \n",
       "2 b \n",
       "3 c "
      ]
     },
     "metadata": {},
     "output_type": "display_data"
    }
   ],
   "source": [
    "df[1]"
   ]
  },
  {
   "cell_type": "code",
   "execution_count": 68,
   "metadata": {},
   "outputs": [
    {
     "data": {
      "text/html": [
       "<ol class=list-inline>\n",
       "\t<li>a</li>\n",
       "\t<li>b</li>\n",
       "\t<li>c</li>\n",
       "</ol>\n"
      ],
      "text/latex": [
       "\\begin{enumerate*}\n",
       "\\item a\n",
       "\\item b\n",
       "\\item c\n",
       "\\end{enumerate*}\n"
      ],
      "text/markdown": [
       "1. a\n",
       "2. b\n",
       "3. c\n",
       "\n",
       "\n"
      ],
      "text/plain": [
       "[1] a b c\n",
       "Levels: a b c"
      ]
     },
     "metadata": {},
     "output_type": "display_data"
    }
   ],
   "source": [
    "df$st"
   ]
  },
  {
   "cell_type": "markdown",
   "metadata": {},
   "source": [
    "Dataframes can also be accessed in matrix-like fashion using the []. It returns a vector if a row/ column is chosen. If we require the returned entity to be a dataframe, give the keyword 'drop=FALSE' inside []"
   ]
  },
  {
   "cell_type": "code",
   "execution_count": 69,
   "metadata": {},
   "outputs": [
    {
     "data": {
      "text/html": [
       "c"
      ],
      "text/latex": [
       "c"
      ],
      "text/markdown": [
       "c"
      ],
      "text/plain": [
       "[1] c\n",
       "Levels: a b c"
      ]
     },
     "metadata": {},
     "output_type": "display_data"
    },
    {
     "data": {
      "text/html": [
       "<table>\n",
       "<thead><tr><th></th><th scope=col>st</th></tr></thead>\n",
       "<tbody>\n",
       "\t<tr><th scope=row>3</th><td>c</td></tr>\n",
       "</tbody>\n",
       "</table>\n"
      ],
      "text/latex": [
       "\\begin{tabular}{r|l}\n",
       "  & st\\\\\n",
       "\\hline\n",
       "\t3 & c\\\\\n",
       "\\end{tabular}\n"
      ],
      "text/markdown": [
       "\n",
       "| <!--/--> | st | \n",
       "|---|\n",
       "| 3 | c | \n",
       "\n",
       "\n"
      ],
      "text/plain": [
       "  st\n",
       "3 c "
      ]
     },
     "metadata": {},
     "output_type": "display_data"
    },
    {
     "name": "stdout",
     "output_type": "stream",
     "text": [
      "[1] \"..\"\n"
     ]
    },
    {
     "data": {
      "text/html": [
       "<table>\n",
       "<thead><tr><th></th><th scope=col>st</th><th scope=col>val</th></tr></thead>\n",
       "<tbody>\n",
       "\t<tr><th scope=row>3</th><td>c</td><td>1</td></tr>\n",
       "</tbody>\n",
       "</table>\n"
      ],
      "text/latex": [
       "\\begin{tabular}{r|ll}\n",
       "  & st & val\\\\\n",
       "\\hline\n",
       "\t3 & c & 1\\\\\n",
       "\\end{tabular}\n"
      ],
      "text/markdown": [
       "\n",
       "| <!--/--> | st | val | \n",
       "|---|\n",
       "| 3 | c | 1 | \n",
       "\n",
       "\n"
      ],
      "text/plain": [
       "  st val\n",
       "3 c  1  "
      ]
     },
     "metadata": {},
     "output_type": "display_data"
    }
   ],
   "source": [
    "df[3,1]\n",
    "df[3,1, drop=FALSE]\n",
    "print('..')\n",
    "df[3,]"
   ]
  },
  {
   "cell_type": "code",
   "execution_count": 70,
   "metadata": {},
   "outputs": [
    {
     "data": {
      "text/html": [
       "<table>\n",
       "<thead><tr><th scope=col>st</th><th scope=col>val</th></tr></thead>\n",
       "<tbody>\n",
       "\t<tr><td>a</td><td>6</td></tr>\n",
       "\t<tr><td>b</td><td>3</td></tr>\n",
       "</tbody>\n",
       "</table>\n"
      ],
      "text/latex": [
       "\\begin{tabular}{r|ll}\n",
       " st & val\\\\\n",
       "\\hline\n",
       "\t a & 6\\\\\n",
       "\t b & 3\\\\\n",
       "\\end{tabular}\n"
      ],
      "text/markdown": [
       "\n",
       "st | val | \n",
       "|---|---|\n",
       "| a | 6 | \n",
       "| b | 3 | \n",
       "\n",
       "\n"
      ],
      "text/plain": [
       "  st val\n",
       "1 a  6  \n",
       "2 b  3  "
      ]
     },
     "metadata": {},
     "output_type": "display_data"
    }
   ],
   "source": [
    "df[df$val > 1,]"
   ]
  },
  {
   "cell_type": "markdown",
   "metadata": {},
   "source": [
    "Better way of subsetting/ filtering is by using the subset function"
   ]
  },
  {
   "cell_type": "code",
   "execution_count": 71,
   "metadata": {},
   "outputs": [
    {
     "data": {
      "text/html": [
       "<table>\n",
       "<thead><tr><th scope=col>st</th><th scope=col>val</th></tr></thead>\n",
       "<tbody>\n",
       "\t<tr><td>a</td><td>6</td></tr>\n",
       "\t<tr><td>b</td><td>3</td></tr>\n",
       "</tbody>\n",
       "</table>\n"
      ],
      "text/latex": [
       "\\begin{tabular}{r|ll}\n",
       " st & val\\\\\n",
       "\\hline\n",
       "\t a & 6\\\\\n",
       "\t b & 3\\\\\n",
       "\\end{tabular}\n"
      ],
      "text/markdown": [
       "\n",
       "st | val | \n",
       "|---|---|\n",
       "| a | 6 | \n",
       "| b | 3 | \n",
       "\n",
       "\n"
      ],
      "text/plain": [
       "  st val\n",
       "1 a  6  \n",
       "2 b  3  "
      ]
     },
     "metadata": {},
     "output_type": "display_data"
    }
   ],
   "source": [
    "subset(df,df$val > 1)"
   ]
  },
  {
   "cell_type": "markdown",
   "metadata": {},
   "source": [
    "## Adding A Column"
   ]
  },
  {
   "cell_type": "markdown",
   "metadata": {},
   "source": [
    "Column can be added by merely assigning column name to a list or vector"
   ]
  },
  {
   "cell_type": "code",
   "execution_count": 72,
   "metadata": {},
   "outputs": [
    {
     "data": {
      "text/html": [
       "<table>\n",
       "<thead><tr><th scope=col>st</th><th scope=col>val</th><th scope=col>newval</th></tr></thead>\n",
       "<tbody>\n",
       "\t<tr><td>a</td><td>6</td><td>8</td></tr>\n",
       "\t<tr><td>b</td><td>3</td><td>5</td></tr>\n",
       "\t<tr><td>c</td><td>1</td><td>3</td></tr>\n",
       "</tbody>\n",
       "</table>\n"
      ],
      "text/latex": [
       "\\begin{tabular}{r|lll}\n",
       " st & val & newval\\\\\n",
       "\\hline\n",
       "\t a & 6 & 8\\\\\n",
       "\t b & 3 & 5\\\\\n",
       "\t c & 1 & 3\\\\\n",
       "\\end{tabular}\n"
      ],
      "text/markdown": [
       "\n",
       "st | val | newval | \n",
       "|---|---|---|\n",
       "| a | 6 | 8 | \n",
       "| b | 3 | 5 | \n",
       "| c | 1 | 3 | \n",
       "\n",
       "\n"
      ],
      "text/plain": [
       "  st val newval\n",
       "1 a  6   8     \n",
       "2 b  3   5     \n",
       "3 c  1   3     "
      ]
     },
     "metadata": {},
     "output_type": "display_data"
    }
   ],
   "source": [
    "df$newval <- df$val+2\n",
    "df"
   ]
  },
  {
   "cell_type": "markdown",
   "metadata": {},
   "source": [
    "## apply() function"
   ]
  },
  {
   "cell_type": "markdown",
   "metadata": {},
   "source": [
    "apply() function can be applied to a dataframe.\n",
    "1. The first argument is the dataframe\n",
    "2. Second argument is dimension mode - 1 for row, 2 for column\n",
    "3. Third argument - function to be applied\n",
    "4. Fourth argument- arguments to the function to be applied"
   ]
  },
  {
   "cell_type": "code",
   "execution_count": 73,
   "metadata": {},
   "outputs": [
    {
     "data": {
      "text/html": [
       "<dl class=dl-horizontal>\n",
       "\t<dt>st</dt>\n",
       "\t\t<dd>'c'</dd>\n",
       "\t<dt>val</dt>\n",
       "\t\t<dd>'6'</dd>\n",
       "\t<dt>newval</dt>\n",
       "\t\t<dd>'8'</dd>\n",
       "</dl>\n"
      ],
      "text/latex": [
       "\\begin{description*}\n",
       "\\item[st] 'c'\n",
       "\\item[val] '6'\n",
       "\\item[newval] '8'\n",
       "\\end{description*}\n"
      ],
      "text/markdown": [
       "st\n",
       ":   'c'val\n",
       ":   '6'newval\n",
       ":   '8'\n",
       "\n"
      ],
      "text/plain": [
       "    st    val newval \n",
       "   \"c\"    \"6\"    \"8\" "
      ]
     },
     "metadata": {},
     "output_type": "display_data"
    }
   ],
   "source": [
    "x <- apply(df,2,max)\n",
    "x"
   ]
  },
  {
   "cell_type": "markdown",
   "metadata": {},
   "source": [
    "## merge() function"
   ]
  },
  {
   "cell_type": "markdown",
   "metadata": {},
   "source": [
    "Merge function combines two dataframes based on a common variable/column.\n"
   ]
  },
  {
   "cell_type": "code",
   "execution_count": 74,
   "metadata": {},
   "outputs": [
    {
     "data": {
      "text/html": [
       "<table>\n",
       "<thead><tr><th scope=col>val1</th><th scope=col>val2</th></tr></thead>\n",
       "<tbody>\n",
       "\t<tr><td> 1</td><td>48</td></tr>\n",
       "\t<tr><td> 3</td><td>35</td></tr>\n",
       "\t<tr><td> 6</td><td>63</td></tr>\n",
       "\t<tr><td>10</td><td> 1</td></tr>\n",
       "</tbody>\n",
       "</table>\n"
      ],
      "text/latex": [
       "\\begin{tabular}{r|ll}\n",
       " val1 & val2\\\\\n",
       "\\hline\n",
       "\t  1 & 48\\\\\n",
       "\t  3 & 35\\\\\n",
       "\t  6 & 63\\\\\n",
       "\t 10 &  1\\\\\n",
       "\\end{tabular}\n"
      ],
      "text/markdown": [
       "\n",
       "val1 | val2 | \n",
       "|---|---|---|---|\n",
       "|  1 | 48 | \n",
       "|  3 | 35 | \n",
       "|  6 | 63 | \n",
       "| 10 |  1 | \n",
       "\n",
       "\n"
      ],
      "text/plain": [
       "  val1 val2\n",
       "1  1   48  \n",
       "2  3   35  \n",
       "3  6   63  \n",
       "4 10    1  "
      ]
     },
     "metadata": {},
     "output_type": "display_data"
    },
    {
     "data": {
      "text/html": [
       "<table>\n",
       "<thead><tr><th scope=col>val</th><th scope=col>st</th><th scope=col>newval</th><th scope=col>val2</th></tr></thead>\n",
       "<tbody>\n",
       "\t<tr><td>1 </td><td>c </td><td>3 </td><td>48</td></tr>\n",
       "\t<tr><td>3 </td><td>b </td><td>5 </td><td>35</td></tr>\n",
       "\t<tr><td>6 </td><td>a </td><td>8 </td><td>63</td></tr>\n",
       "</tbody>\n",
       "</table>\n"
      ],
      "text/latex": [
       "\\begin{tabular}{r|llll}\n",
       " val & st & newval & val2\\\\\n",
       "\\hline\n",
       "\t 1  & c  & 3  & 48\\\\\n",
       "\t 3  & b  & 5  & 35\\\\\n",
       "\t 6  & a  & 8  & 63\\\\\n",
       "\\end{tabular}\n"
      ],
      "text/markdown": [
       "\n",
       "val | st | newval | val2 | \n",
       "|---|---|---|\n",
       "| 1  | c  | 3  | 48 | \n",
       "| 3  | b  | 5  | 35 | \n",
       "| 6  | a  | 8  | 63 | \n",
       "\n",
       "\n"
      ],
      "text/plain": [
       "  val st newval val2\n",
       "1 1   c  3      48  \n",
       "2 3   b  5      35  \n",
       "3 6   a  8      63  "
      ]
     },
     "metadata": {},
     "output_type": "display_data"
    }
   ],
   "source": [
    "df2 <- data.frame(val1 = c(1,3,6,10), val2  = c(48,35,63, 1))\n",
    "df2\n",
    "dfmerged <- merge(df,df2, by.x = 'val', by.y = 'val1')\n",
    "dfmerged"
   ]
  },
  {
   "cell_type": "markdown",
   "metadata": {},
   "source": [
    "The arguments by.x and by.y tell the merge function which columns to choose as the common column to merge."
   ]
  },
  {
   "cell_type": "markdown",
   "metadata": {},
   "source": [
    "## lapply() function"
   ]
  },
  {
   "cell_type": "markdown",
   "metadata": {},
   "source": [
    "lapply (list apply) function is applied to list. Since dataframe is a specialised list, lapply can be applied to a dataframe. lapply() is applied to columns"
   ]
  },
  {
   "cell_type": "code",
   "execution_count": 75,
   "metadata": {},
   "outputs": [
    {
     "data": {
      "text/html": [
       "<dl>\n",
       "\t<dt>$val</dt>\n",
       "\t\t<dd><ol class=list-inline>\n",
       "\t<li>1</li>\n",
       "\t<li>3</li>\n",
       "\t<li>6</li>\n",
       "</ol>\n",
       "</dd>\n",
       "\t<dt>$st</dt>\n",
       "\t\t<dd><ol class=list-inline>\n",
       "\t<li>a</li>\n",
       "\t<li>b</li>\n",
       "\t<li>c</li>\n",
       "</ol>\n",
       "</dd>\n",
       "\t<dt>$newval</dt>\n",
       "\t\t<dd><ol class=list-inline>\n",
       "\t<li>3</li>\n",
       "\t<li>5</li>\n",
       "\t<li>8</li>\n",
       "</ol>\n",
       "</dd>\n",
       "\t<dt>$val2</dt>\n",
       "\t\t<dd><ol class=list-inline>\n",
       "\t<li>35</li>\n",
       "\t<li>48</li>\n",
       "\t<li>63</li>\n",
       "</ol>\n",
       "</dd>\n",
       "</dl>\n"
      ],
      "text/latex": [
       "\\begin{description}\n",
       "\\item[\\$val] \\begin{enumerate*}\n",
       "\\item 1\n",
       "\\item 3\n",
       "\\item 6\n",
       "\\end{enumerate*}\n",
       "\n",
       "\\item[\\$st] \\begin{enumerate*}\n",
       "\\item a\n",
       "\\item b\n",
       "\\item c\n",
       "\\end{enumerate*}\n",
       "\n",
       "\\item[\\$newval] \\begin{enumerate*}\n",
       "\\item 3\n",
       "\\item 5\n",
       "\\item 8\n",
       "\\end{enumerate*}\n",
       "\n",
       "\\item[\\$val2] \\begin{enumerate*}\n",
       "\\item 35\n",
       "\\item 48\n",
       "\\item 63\n",
       "\\end{enumerate*}\n",
       "\n",
       "\\end{description}\n"
      ],
      "text/markdown": [
       "$val\n",
       ":   1. 1\n",
       "2. 3\n",
       "3. 6\n",
       "\n",
       "\n",
       "\n",
       "$st\n",
       ":   1. a\n",
       "2. b\n",
       "3. c\n",
       "\n",
       "\n",
       "\n",
       "$newval\n",
       ":   1. 3\n",
       "2. 5\n",
       "3. 8\n",
       "\n",
       "\n",
       "\n",
       "$val2\n",
       ":   1. 35\n",
       "2. 48\n",
       "3. 63\n",
       "\n",
       "\n",
       "\n",
       "\n",
       "\n"
      ],
      "text/plain": [
       "$val\n",
       "[1] 1 3 6\n",
       "\n",
       "$st\n",
       "[1] a b c\n",
       "Levels: a b c\n",
       "\n",
       "$newval\n",
       "[1] 3 5 8\n",
       "\n",
       "$val2\n",
       "[1] 35 48 63\n"
      ]
     },
     "metadata": {},
     "output_type": "display_data"
    }
   ],
   "source": [
    "x <- lapply(dfmerged,sort)\n",
    "x"
   ]
  },
  {
   "cell_type": "markdown",
   "metadata": {},
   "source": [
    "<a id='ReadingFile'></a>\n",
    "\n",
    "# 7. Reading Data from files"
   ]
  },
  {
   "cell_type": "markdown",
   "metadata": {},
   "source": [
    "There are a few principal functions reading data into R.\n",
    "\n",
    "1. read.table , read.csv , for reading tabular data\n",
    "2. readLines , for reading lines of a text file\n",
    "3. source , for reading in R code files ( inverse of dump )\n",
    "4. dget , for reading in R code files ( inverse of dput )\n",
    "5. load , for reading in saved workspaces\n",
    "6. unserialize , for reading single R objects in binary form"
   ]
  },
  {
   "cell_type": "markdown",
   "metadata": {},
   "source": [
    "## read.table() function - reads a file into a dataframe directly"
   ]
  },
  {
   "cell_type": "code",
   "execution_count": null,
   "metadata": {},
   "outputs": [],
   "source": [
    "df = read.table(\"filename.txt\", header = TRUE)"
   ]
  },
  {
   "cell_type": "markdown",
   "metadata": {},
   "source": [
    "If header is false, default row names will be given which then have to be changed"
   ]
  },
  {
   "cell_type": "markdown",
   "metadata": {},
   "source": [
    "## scan()  - reads data into a vector or list from a console or file"
   ]
  },
  {
   "cell_type": "code",
   "execution_count": null,
   "metadata": {},
   "outputs": [],
   "source": [
    "inp <- scan(\"filename.dat\", list(\"\",\"\",0L,5.4))"
   ]
  },
  {
   "cell_type": "markdown",
   "metadata": {},
   "source": [
    "The first argument is the filename. The second argument is the data mode that is read in, i.e it is a list of 4 objects (or 4 vectors) - first and second-a character, third an integer, 4th a numeric. <br>\n",
    "Once scanned, the data can be converted into a matrix too for other purposes"
   ]
  },
  {
   "cell_type": "markdown",
   "metadata": {},
   "source": [
    "## readr package"
   ]
  },
  {
   "cell_type": "markdown",
   "metadata": {},
   "source": [
    "The functions in readr are read_table() and read_csv() . These functions are often much faster than their base R analogues and provide a few other nice features such as progress meters, and specifying column types"
   ]
  },
  {
   "cell_type": "markdown",
   "metadata": {},
   "source": [
    "<a id='ProgrammingConstructs'></a>\n",
    "\n",
    "# 8. Programming Constructs/Structures"
   ]
  },
  {
   "cell_type": "markdown",
   "metadata": {},
   "source": [
    "## Control Statements\n",
    "Control statements decide logic of most algorithms. <br>\n",
    "The two types of control statements are:\n",
    "1. Conditional Execution\n",
    "2. Repetitive Execution"
   ]
  },
  {
   "cell_type": "markdown",
   "metadata": {},
   "source": [
    "### Conditional Execution - if-else"
   ]
  },
  {
   "cell_type": "code",
   "execution_count": 78,
   "metadata": {},
   "outputs": [
    {
     "data": {
      "text/html": [
       "1"
      ],
      "text/latex": [
       "1"
      ],
      "text/markdown": [
       "1"
      ],
      "text/plain": [
       "[1] 1"
      ]
     },
     "metadata": {},
     "output_type": "display_data"
    }
   ],
   "source": [
    "x <- 3\n",
    "if (x==3) {\n",
    "    x <- 1\n",
    "} else {\n",
    "    x <- 100\n",
    "}\n",
    "x"
   ]
  },
  {
   "cell_type": "markdown",
   "metadata": {},
   "source": [
    "The 'else' must be in the same line as '}' of the if statement block, else it is an error. <br>\n",
    "The syntax and coventions must be strictly followed. <br>\n",
    "The right brace before the else is used by the R parser to deduce that this is an if-else rather than just an if ."
   ]
  },
  {
   "cell_type": "markdown",
   "metadata": {},
   "source": [
    "For simple one line conditional statements, they can be compacted as :"
   ]
  },
  {
   "cell_type": "code",
   "execution_count": 79,
   "metadata": {},
   "outputs": [
    {
     "data": {
      "text/html": [
       "10"
      ],
      "text/latex": [
       "10"
      ],
      "text/markdown": [
       "10"
      ],
      "text/plain": [
       "[1] 10"
      ]
     },
     "metadata": {},
     "output_type": "display_data"
    }
   ],
   "source": [
    "y <- if(x<100) 10 else 20\n",
    "y"
   ]
  },
  {
   "cell_type": "markdown",
   "metadata": {},
   "source": [
    "### Repetitive Execution - loops\n",
    "The loop constructs are 'for', 'while', 'repeat'"
   ]
  },
  {
   "cell_type": "markdown",
   "metadata": {},
   "source": [
    "1. for()"
   ]
  },
  {
   "cell_type": "code",
   "execution_count": 80,
   "metadata": {},
   "outputs": [
    {
     "name": "stdout",
     "output_type": "stream",
     "text": [
      "[1] 36\n",
      "[1] 127\n",
      "[1] 7\n",
      "[1] 2\n",
      "[1] 4\n",
      "[1] 7\n",
      "[1] 8\n",
      "[1] 4\n",
      "[1] 3\n",
      "[1] 2\n",
      "[1] \".........\"\n",
      "[1] 0\n",
      "[1] 1\n",
      "[1] 2\n",
      "[1] 3\n",
      "[1] 4\n",
      "[1] 5\n",
      "[1] 6\n",
      "[1] 7\n",
      "[1] 8\n",
      "[1] 9\n"
     ]
    }
   ],
   "source": [
    "x <- c(35,126,6,1,3,6,7,3,2,1)\n",
    "\n",
    "#Python style iterating through a vector\n",
    "for (i in x) {\n",
    "    print(i+1)\n",
    "}\n",
    "\n",
    "print('.........')\n",
    "\n",
    "#Iterating through a range\n",
    "for (i in 1:10) {\n",
    "    print(i-1)\n",
    "}"
   ]
  },
  {
   "cell_type": "markdown",
   "metadata": {},
   "source": [
    "2. while()"
   ]
  },
  {
   "cell_type": "code",
   "execution_count": 81,
   "metadata": {},
   "outputs": [
    {
     "name": "stdout",
     "output_type": "stream",
     "text": [
      "[1] 1\n",
      "[1] 2\n",
      "[1] 3\n",
      "[1] 4\n",
      "[1] 5\n",
      "[1] \"........\"\n"
     ]
    },
    {
     "data": {
      "text/html": [
       "13"
      ],
      "text/latex": [
       "13"
      ],
      "text/markdown": [
       "13"
      ],
      "text/plain": [
       "[1] 13"
      ]
     },
     "metadata": {},
     "output_type": "display_data"
    },
    {
     "data": {
      "text/html": [
       "13"
      ],
      "text/latex": [
       "13"
      ],
      "text/markdown": [
       "13"
      ],
      "text/plain": [
       "[1] 13"
      ]
     },
     "metadata": {},
     "output_type": "display_data"
    }
   ],
   "source": [
    "i <- 1\n",
    "\n",
    "#1. \n",
    "while (i<6) {\n",
    "    print(i)\n",
    "    i <- i+1\n",
    "}\n",
    "print('........')\n",
    "#2. \n",
    "i <-1\n",
    "while (i <= 10) i <- i+4\n",
    "i\n",
    "\n",
    "#3. Using break\n",
    "i <- 1\n",
    "while(TRUE) {\n",
    "i <- i+4\n",
    "if (i > 10) break\n",
    "}\n",
    "i"
   ]
  },
  {
   "cell_type": "markdown",
   "metadata": {},
   "source": [
    "3. repeat()"
   ]
  },
  {
   "cell_type": "code",
   "execution_count": 82,
   "metadata": {},
   "outputs": [
    {
     "name": "stdout",
     "output_type": "stream",
     "text": [
      "[1] 1\n",
      "[1] 2\n",
      "[1] 3\n",
      "[1] 4\n",
      "[1] 5\n"
     ]
    }
   ],
   "source": [
    "i <- 1\n",
    "repeat {\n",
    "    print(i)\n",
    "    i <- i+1\n",
    "    if (i==6) {\n",
    "        break\n",
    "    }\n",
    "}"
   ]
  },
  {
   "cell_type": "markdown",
   "metadata": {},
   "source": [
    "Looping over non-vectors are not directly supported by R. They can be indirectly done using functions such as lapply()."
   ]
  },
  {
   "cell_type": "markdown",
   "metadata": {},
   "source": [
    "<a id='Functions'></a>\n",
    "\n",
    "# 9. Functions"
   ]
  },
  {
   "cell_type": "markdown",
   "metadata": {},
   "source": [
    "R language allows the user to create objects of mode function. R Functions behave like user defined functions as every other language \n"
   ]
  },
  {
   "cell_type": "markdown",
   "metadata": {},
   "source": [
    "## Syntax\n",
    "name <- function(arg_1, arg_2, …) { <br> expression } <br>\n",
    "The value of the expression is the value returned for the function. "
   ]
  },
  {
   "cell_type": "markdown",
   "metadata": {},
   "source": [
    "## Simple function"
   ]
  },
  {
   "cell_type": "code",
   "execution_count": 83,
   "metadata": {},
   "outputs": [
    {
     "data": {
      "text/html": [
       "14"
      ],
      "text/latex": [
       "14"
      ],
      "text/markdown": [
       "14"
      ],
      "text/plain": [
       "[1] 14"
      ]
     },
     "metadata": {},
     "output_type": "display_data"
    }
   ],
   "source": [
    "myfun <- function(x,y,z) {\n",
    "    x1 <- length(x)\n",
    "    y1 <- length(y)\n",
    "    z1 <- length(z)\n",
    "#    print(x1)\n",
    "#    print(y1)\n",
    "#    print(z1)\n",
    "    \n",
    "    x1+y1-z1\n",
    "}\n",
    "\n",
    "x <- c(2,34,54,2,23,242)\n",
    "y <- c(53,34,7,34,43,221,34,56576,2,43)\n",
    "z <- c(3,1)\n",
    "\n",
    "finalval <- myfun(x,y,z)\n",
    "finalval"
   ]
  },
  {
   "cell_type": "markdown",
   "metadata": {},
   "source": [
    "## User Defined Binary Operator\n",
    "A binary operator can be defined within '%..%' as a function. It can be used as a binary operator"
   ]
  },
  {
   "cell_type": "code",
   "execution_count": 84,
   "metadata": {},
   "outputs": [
    {
     "data": {
      "text/html": [
       "27"
      ],
      "text/latex": [
       "27"
      ],
      "text/markdown": [
       "27"
      ],
      "text/plain": [
       "[1] 27"
      ]
     },
     "metadata": {},
     "output_type": "display_data"
    }
   ],
   "source": [
    "\"%abc%\" <- function(a,b) {\n",
    "    a^2 + b\n",
    "}\n",
    "x <- 5\n",
    "y <- 2\n",
    "\n",
    "x%abc%y"
   ]
  },
  {
   "cell_type": "markdown",
   "metadata": {},
   "source": [
    "Default arguments can be used.<br>\n",
    "While invoking, the arguments can be named and assigned as per the function definition and can be given in any order. Eg:"
   ]
  },
  {
   "cell_type": "code",
   "execution_count": 85,
   "metadata": {},
   "outputs": [
    {
     "data": {
      "text/html": [
       "0"
      ],
      "text/latex": [
       "0"
      ],
      "text/markdown": [
       "0"
      ],
      "text/plain": [
       "[1] 0"
      ]
     },
     "metadata": {},
     "output_type": "display_data"
    }
   ],
   "source": [
    "finalval <- myfun(y = y, z = z, x =x)\n",
    "finalval"
   ]
  },
  {
   "cell_type": "markdown",
   "metadata": {},
   "source": [
    "<a id='LoopFunctions'></a>\n",
    "\n",
    "# 10. Loop Functions"
   ]
  },
  {
   "cell_type": "markdown",
   "metadata": {},
   "source": [
    "Loop functions are an optimised alternative for using 'for' and 'while' loops. \n",
    "They are :\n",
    "\n",
    "* lapply() : Loop over a list and evaluate a function on each element\n",
    "* sapply() : Same as lapply but try to simplify the result\n",
    "* apply() : Apply a function over the margins of an array\n",
    "* tapply() : Apply a function over subsets of a vector\n",
    "* mapply() : Multivariate version of lappl"
   ]
  },
  {
   "cell_type": "code",
   "execution_count": 86,
   "metadata": {},
   "outputs": [],
   "source": [
    "f1 <- function(x) {\n",
    "    r <- 1\n",
    "    y <- 1\n",
    "    for (i in x) {\n",
    "        r <- r+ y*i\n",
    "        y <- y+1\n",
    "    }\n",
    "    r\n",
    "}"
   ]
  },
  {
   "cell_type": "markdown",
   "metadata": {},
   "source": [
    "## lapply()\n",
    "It iterates over a list, performs a functions and returns a list"
   ]
  },
  {
   "cell_type": "code",
   "execution_count": 87,
   "metadata": {},
   "outputs": [
    {
     "data": {
      "text/html": [
       "<ol>\n",
       "\t<li>318</li>\n",
       "\t<li>852</li>\n",
       "</ol>\n"
      ],
      "text/latex": [
       "\\begin{enumerate}\n",
       "\\item 318\n",
       "\\item 852\n",
       "\\end{enumerate}\n"
      ],
      "text/markdown": [
       "1. 318\n",
       "2. 852\n",
       "\n",
       "\n"
      ],
      "text/plain": [
       "[[1]]\n",
       "[1] 318\n",
       "\n",
       "[[2]]\n",
       "[1] 852\n"
      ]
     },
     "metadata": {},
     "output_type": "display_data"
    }
   ],
   "source": [
    "x <- list(c(32,4,5,2,2,1,4,5,2,1,4,6,2), c(5,412,2,4))\n",
    "lapply(x,f1)"
   ]
  },
  {
   "cell_type": "markdown",
   "metadata": {},
   "source": [
    "## sapply()\n",
    "sapply is essentially same as lapply, but it processes on the output. If output is a list, it makes it a vector.If it is a list of vectors, matrix is returned. "
   ]
  },
  {
   "cell_type": "code",
   "execution_count": 88,
   "metadata": {},
   "outputs": [
    {
     "data": {
      "text/html": [
       "<ol class=list-inline>\n",
       "\t<li>318</li>\n",
       "\t<li>852</li>\n",
       "</ol>\n"
      ],
      "text/latex": [
       "\\begin{enumerate*}\n",
       "\\item 318\n",
       "\\item 852\n",
       "\\end{enumerate*}\n"
      ],
      "text/markdown": [
       "1. 318\n",
       "2. 852\n",
       "\n",
       "\n"
      ],
      "text/plain": [
       "[1] 318 852"
      ]
     },
     "metadata": {},
     "output_type": "display_data"
    }
   ],
   "source": [
    "sapply(x,f1)"
   ]
  },
  {
   "cell_type": "markdown",
   "metadata": {},
   "source": [
    "## tapply()\n",
    "tapply() is used to apply a function over subsets of a vector. It can be thought of as a combination of split() and sapply() for vectors only. The first argument describes the object on which function is to be applied. The second argument refers to the factor or how to group the data so the function is applied and the third argument is the function to be applied"
   ]
  },
  {
   "cell_type": "code",
   "execution_count": 89,
   "metadata": {
    "scrolled": true
   },
   "outputs": [
    {
     "data": {
      "text/html": [
       "<table>\n",
       "<thead><tr><th scope=col>date</th><th scope=col>month</th><th scope=col>year</th><th scope=col>val</th></tr></thead>\n",
       "<tbody>\n",
       "\t<tr><td>1990-01-01</td><td>01        </td><td>1990      </td><td>0         </td></tr>\n",
       "\t<tr><td>1990-01-02</td><td>01        </td><td>1990      </td><td>1         </td></tr>\n",
       "\t<tr><td>1990-01-03</td><td>01        </td><td>1990      </td><td>1         </td></tr>\n",
       "\t<tr><td>1990-01-04</td><td>01        </td><td>1990      </td><td>0         </td></tr>\n",
       "\t<tr><td>1990-01-05</td><td>01        </td><td>1990      </td><td>1         </td></tr>\n",
       "\t<tr><td>1990-01-06</td><td>01        </td><td>1990      </td><td>1         </td></tr>\n",
       "\t<tr><td>1990-01-07</td><td>01        </td><td>1990      </td><td>1         </td></tr>\n",
       "\t<tr><td>1990-01-08</td><td>01        </td><td>1990      </td><td>0         </td></tr>\n",
       "\t<tr><td>1990-01-09</td><td>01        </td><td>1990      </td><td>0         </td></tr>\n",
       "\t<tr><td>1990-01-10</td><td>01        </td><td>1990      </td><td>0         </td></tr>\n",
       "\t<tr><td>1990-01-11</td><td>01        </td><td>1990      </td><td>1         </td></tr>\n",
       "\t<tr><td>1990-01-12</td><td>01        </td><td>1990      </td><td>1         </td></tr>\n",
       "\t<tr><td>1990-01-13</td><td>01        </td><td>1990      </td><td>0         </td></tr>\n",
       "\t<tr><td>1990-01-14</td><td>01        </td><td>1990      </td><td>1         </td></tr>\n",
       "\t<tr><td>1990-01-15</td><td>01        </td><td>1990      </td><td>0         </td></tr>\n",
       "\t<tr><td>1990-01-16</td><td>01        </td><td>1990      </td><td>1         </td></tr>\n",
       "\t<tr><td>1990-01-17</td><td>01        </td><td>1990      </td><td>0         </td></tr>\n",
       "\t<tr><td>1990-01-18</td><td>01        </td><td>1990      </td><td>0         </td></tr>\n",
       "\t<tr><td>1990-01-19</td><td>01        </td><td>1990      </td><td>0         </td></tr>\n",
       "\t<tr><td>1990-01-20</td><td>01        </td><td>1990      </td><td>1         </td></tr>\n",
       "\t<tr><td>1990-01-21</td><td>01        </td><td>1990      </td><td>1         </td></tr>\n",
       "\t<tr><td>1990-01-22</td><td>01        </td><td>1990      </td><td>0         </td></tr>\n",
       "\t<tr><td>1990-01-23</td><td>01        </td><td>1990      </td><td>0         </td></tr>\n",
       "\t<tr><td>1990-01-24</td><td>01        </td><td>1990      </td><td>0         </td></tr>\n",
       "\t<tr><td>1990-01-25</td><td>01        </td><td>1990      </td><td>1         </td></tr>\n",
       "\t<tr><td>1990-01-26</td><td>01        </td><td>1990      </td><td>0         </td></tr>\n",
       "\t<tr><td>1990-01-27</td><td>01        </td><td>1990      </td><td>0         </td></tr>\n",
       "\t<tr><td>1990-01-28</td><td>01        </td><td>1990      </td><td>1         </td></tr>\n",
       "\t<tr><td>1990-01-29</td><td>01        </td><td>1990      </td><td>0         </td></tr>\n",
       "\t<tr><td>1990-01-30</td><td>01        </td><td>1990      </td><td>0         </td></tr>\n",
       "\t<tr><td>⋮</td><td>⋮</td><td>⋮</td><td>⋮</td></tr>\n",
       "\t<tr><td>2013-12-02</td><td>12        </td><td>2013      </td><td>1         </td></tr>\n",
       "\t<tr><td>2013-12-03</td><td>12        </td><td>2013      </td><td>0         </td></tr>\n",
       "\t<tr><td>2013-12-04</td><td>12        </td><td>2013      </td><td>1         </td></tr>\n",
       "\t<tr><td>2013-12-05</td><td>12        </td><td>2013      </td><td>0         </td></tr>\n",
       "\t<tr><td>2013-12-06</td><td>12        </td><td>2013      </td><td>1         </td></tr>\n",
       "\t<tr><td>2013-12-07</td><td>12        </td><td>2013      </td><td>1         </td></tr>\n",
       "\t<tr><td>2013-12-08</td><td>12        </td><td>2013      </td><td>0         </td></tr>\n",
       "\t<tr><td>2013-12-09</td><td>12        </td><td>2013      </td><td>0         </td></tr>\n",
       "\t<tr><td>2013-12-10</td><td>12        </td><td>2013      </td><td>1         </td></tr>\n",
       "\t<tr><td>2013-12-11</td><td>12        </td><td>2013      </td><td>1         </td></tr>\n",
       "\t<tr><td>2013-12-12</td><td>12        </td><td>2013      </td><td>0         </td></tr>\n",
       "\t<tr><td>2013-12-13</td><td>12        </td><td>2013      </td><td>0         </td></tr>\n",
       "\t<tr><td>2013-12-14</td><td>12        </td><td>2013      </td><td>1         </td></tr>\n",
       "\t<tr><td>2013-12-15</td><td>12        </td><td>2013      </td><td>1         </td></tr>\n",
       "\t<tr><td>2013-12-16</td><td>12        </td><td>2013      </td><td>0         </td></tr>\n",
       "\t<tr><td>2013-12-17</td><td>12        </td><td>2013      </td><td>0         </td></tr>\n",
       "\t<tr><td>2013-12-18</td><td>12        </td><td>2013      </td><td>0         </td></tr>\n",
       "\t<tr><td>2013-12-19</td><td>12        </td><td>2013      </td><td>0         </td></tr>\n",
       "\t<tr><td>2013-12-20</td><td>12        </td><td>2013      </td><td>1         </td></tr>\n",
       "\t<tr><td>2013-12-21</td><td>12        </td><td>2013      </td><td>1         </td></tr>\n",
       "\t<tr><td>2013-12-22</td><td>12        </td><td>2013      </td><td>0         </td></tr>\n",
       "\t<tr><td>2013-12-23</td><td>12        </td><td>2013      </td><td>0         </td></tr>\n",
       "\t<tr><td>2013-12-24</td><td>12        </td><td>2013      </td><td>0         </td></tr>\n",
       "\t<tr><td>2013-12-25</td><td>12        </td><td>2013      </td><td>1         </td></tr>\n",
       "\t<tr><td>2013-12-26</td><td>12        </td><td>2013      </td><td>0         </td></tr>\n",
       "\t<tr><td>2013-12-27</td><td>12        </td><td>2013      </td><td>0         </td></tr>\n",
       "\t<tr><td>2013-12-28</td><td>12        </td><td>2013      </td><td>0         </td></tr>\n",
       "\t<tr><td>2013-12-29</td><td>12        </td><td>2013      </td><td>0         </td></tr>\n",
       "\t<tr><td>2013-12-30</td><td>12        </td><td>2013      </td><td>0         </td></tr>\n",
       "\t<tr><td>2013-12-31</td><td>12        </td><td>2013      </td><td>1         </td></tr>\n",
       "</tbody>\n",
       "</table>\n"
      ],
      "text/latex": [
       "\\begin{tabular}{r|llll}\n",
       " date & month & year & val\\\\\n",
       "\\hline\n",
       "\t 1990-01-01 & 01         & 1990       & 0         \\\\\n",
       "\t 1990-01-02 & 01         & 1990       & 1         \\\\\n",
       "\t 1990-01-03 & 01         & 1990       & 1         \\\\\n",
       "\t 1990-01-04 & 01         & 1990       & 0         \\\\\n",
       "\t 1990-01-05 & 01         & 1990       & 1         \\\\\n",
       "\t 1990-01-06 & 01         & 1990       & 1         \\\\\n",
       "\t 1990-01-07 & 01         & 1990       & 1         \\\\\n",
       "\t 1990-01-08 & 01         & 1990       & 0         \\\\\n",
       "\t 1990-01-09 & 01         & 1990       & 0         \\\\\n",
       "\t 1990-01-10 & 01         & 1990       & 0         \\\\\n",
       "\t 1990-01-11 & 01         & 1990       & 1         \\\\\n",
       "\t 1990-01-12 & 01         & 1990       & 1         \\\\\n",
       "\t 1990-01-13 & 01         & 1990       & 0         \\\\\n",
       "\t 1990-01-14 & 01         & 1990       & 1         \\\\\n",
       "\t 1990-01-15 & 01         & 1990       & 0         \\\\\n",
       "\t 1990-01-16 & 01         & 1990       & 1         \\\\\n",
       "\t 1990-01-17 & 01         & 1990       & 0         \\\\\n",
       "\t 1990-01-18 & 01         & 1990       & 0         \\\\\n",
       "\t 1990-01-19 & 01         & 1990       & 0         \\\\\n",
       "\t 1990-01-20 & 01         & 1990       & 1         \\\\\n",
       "\t 1990-01-21 & 01         & 1990       & 1         \\\\\n",
       "\t 1990-01-22 & 01         & 1990       & 0         \\\\\n",
       "\t 1990-01-23 & 01         & 1990       & 0         \\\\\n",
       "\t 1990-01-24 & 01         & 1990       & 0         \\\\\n",
       "\t 1990-01-25 & 01         & 1990       & 1         \\\\\n",
       "\t 1990-01-26 & 01         & 1990       & 0         \\\\\n",
       "\t 1990-01-27 & 01         & 1990       & 0         \\\\\n",
       "\t 1990-01-28 & 01         & 1990       & 1         \\\\\n",
       "\t 1990-01-29 & 01         & 1990       & 0         \\\\\n",
       "\t 1990-01-30 & 01         & 1990       & 0         \\\\\n",
       "\t ⋮ & ⋮ & ⋮ & ⋮\\\\\n",
       "\t 2013-12-02 & 12         & 2013       & 1         \\\\\n",
       "\t 2013-12-03 & 12         & 2013       & 0         \\\\\n",
       "\t 2013-12-04 & 12         & 2013       & 1         \\\\\n",
       "\t 2013-12-05 & 12         & 2013       & 0         \\\\\n",
       "\t 2013-12-06 & 12         & 2013       & 1         \\\\\n",
       "\t 2013-12-07 & 12         & 2013       & 1         \\\\\n",
       "\t 2013-12-08 & 12         & 2013       & 0         \\\\\n",
       "\t 2013-12-09 & 12         & 2013       & 0         \\\\\n",
       "\t 2013-12-10 & 12         & 2013       & 1         \\\\\n",
       "\t 2013-12-11 & 12         & 2013       & 1         \\\\\n",
       "\t 2013-12-12 & 12         & 2013       & 0         \\\\\n",
       "\t 2013-12-13 & 12         & 2013       & 0         \\\\\n",
       "\t 2013-12-14 & 12         & 2013       & 1         \\\\\n",
       "\t 2013-12-15 & 12         & 2013       & 1         \\\\\n",
       "\t 2013-12-16 & 12         & 2013       & 0         \\\\\n",
       "\t 2013-12-17 & 12         & 2013       & 0         \\\\\n",
       "\t 2013-12-18 & 12         & 2013       & 0         \\\\\n",
       "\t 2013-12-19 & 12         & 2013       & 0         \\\\\n",
       "\t 2013-12-20 & 12         & 2013       & 1         \\\\\n",
       "\t 2013-12-21 & 12         & 2013       & 1         \\\\\n",
       "\t 2013-12-22 & 12         & 2013       & 0         \\\\\n",
       "\t 2013-12-23 & 12         & 2013       & 0         \\\\\n",
       "\t 2013-12-24 & 12         & 2013       & 0         \\\\\n",
       "\t 2013-12-25 & 12         & 2013       & 1         \\\\\n",
       "\t 2013-12-26 & 12         & 2013       & 0         \\\\\n",
       "\t 2013-12-27 & 12         & 2013       & 0         \\\\\n",
       "\t 2013-12-28 & 12         & 2013       & 0         \\\\\n",
       "\t 2013-12-29 & 12         & 2013       & 0         \\\\\n",
       "\t 2013-12-30 & 12         & 2013       & 0         \\\\\n",
       "\t 2013-12-31 & 12         & 2013       & 1         \\\\\n",
       "\\end{tabular}\n"
      ],
      "text/markdown": [
       "\n",
       "date | month | year | val | \n",
       "|---|---|---|---|---|---|---|---|---|---|---|---|---|---|---|---|---|---|---|---|---|---|---|---|---|---|---|---|---|---|---|---|---|---|---|---|---|---|---|---|---|---|---|---|---|---|---|---|---|---|---|---|---|---|---|---|---|---|---|---|---|\n",
       "| 1990-01-01 | 01         | 1990       | 0          | \n",
       "| 1990-01-02 | 01         | 1990       | 1          | \n",
       "| 1990-01-03 | 01         | 1990       | 1          | \n",
       "| 1990-01-04 | 01         | 1990       | 0          | \n",
       "| 1990-01-05 | 01         | 1990       | 1          | \n",
       "| 1990-01-06 | 01         | 1990       | 1          | \n",
       "| 1990-01-07 | 01         | 1990       | 1          | \n",
       "| 1990-01-08 | 01         | 1990       | 0          | \n",
       "| 1990-01-09 | 01         | 1990       | 0          | \n",
       "| 1990-01-10 | 01         | 1990       | 0          | \n",
       "| 1990-01-11 | 01         | 1990       | 1          | \n",
       "| 1990-01-12 | 01         | 1990       | 1          | \n",
       "| 1990-01-13 | 01         | 1990       | 0          | \n",
       "| 1990-01-14 | 01         | 1990       | 1          | \n",
       "| 1990-01-15 | 01         | 1990       | 0          | \n",
       "| 1990-01-16 | 01         | 1990       | 1          | \n",
       "| 1990-01-17 | 01         | 1990       | 0          | \n",
       "| 1990-01-18 | 01         | 1990       | 0          | \n",
       "| 1990-01-19 | 01         | 1990       | 0          | \n",
       "| 1990-01-20 | 01         | 1990       | 1          | \n",
       "| 1990-01-21 | 01         | 1990       | 1          | \n",
       "| 1990-01-22 | 01         | 1990       | 0          | \n",
       "| 1990-01-23 | 01         | 1990       | 0          | \n",
       "| 1990-01-24 | 01         | 1990       | 0          | \n",
       "| 1990-01-25 | 01         | 1990       | 1          | \n",
       "| 1990-01-26 | 01         | 1990       | 0          | \n",
       "| 1990-01-27 | 01         | 1990       | 0          | \n",
       "| 1990-01-28 | 01         | 1990       | 1          | \n",
       "| 1990-01-29 | 01         | 1990       | 0          | \n",
       "| 1990-01-30 | 01         | 1990       | 0          | \n",
       "| ⋮ | ⋮ | ⋮ | ⋮ | \n",
       "| 2013-12-02 | 12         | 2013       | 1          | \n",
       "| 2013-12-03 | 12         | 2013       | 0          | \n",
       "| 2013-12-04 | 12         | 2013       | 1          | \n",
       "| 2013-12-05 | 12         | 2013       | 0          | \n",
       "| 2013-12-06 | 12         | 2013       | 1          | \n",
       "| 2013-12-07 | 12         | 2013       | 1          | \n",
       "| 2013-12-08 | 12         | 2013       | 0          | \n",
       "| 2013-12-09 | 12         | 2013       | 0          | \n",
       "| 2013-12-10 | 12         | 2013       | 1          | \n",
       "| 2013-12-11 | 12         | 2013       | 1          | \n",
       "| 2013-12-12 | 12         | 2013       | 0          | \n",
       "| 2013-12-13 | 12         | 2013       | 0          | \n",
       "| 2013-12-14 | 12         | 2013       | 1          | \n",
       "| 2013-12-15 | 12         | 2013       | 1          | \n",
       "| 2013-12-16 | 12         | 2013       | 0          | \n",
       "| 2013-12-17 | 12         | 2013       | 0          | \n",
       "| 2013-12-18 | 12         | 2013       | 0          | \n",
       "| 2013-12-19 | 12         | 2013       | 0          | \n",
       "| 2013-12-20 | 12         | 2013       | 1          | \n",
       "| 2013-12-21 | 12         | 2013       | 1          | \n",
       "| 2013-12-22 | 12         | 2013       | 0          | \n",
       "| 2013-12-23 | 12         | 2013       | 0          | \n",
       "| 2013-12-24 | 12         | 2013       | 0          | \n",
       "| 2013-12-25 | 12         | 2013       | 1          | \n",
       "| 2013-12-26 | 12         | 2013       | 0          | \n",
       "| 2013-12-27 | 12         | 2013       | 0          | \n",
       "| 2013-12-28 | 12         | 2013       | 0          | \n",
       "| 2013-12-29 | 12         | 2013       | 0          | \n",
       "| 2013-12-30 | 12         | 2013       | 0          | \n",
       "| 2013-12-31 | 12         | 2013       | 1          | \n",
       "\n",
       "\n"
      ],
      "text/plain": [
       "     date       month year val\n",
       "1    1990-01-01 01    1990 0  \n",
       "2    1990-01-02 01    1990 1  \n",
       "3    1990-01-03 01    1990 1  \n",
       "4    1990-01-04 01    1990 0  \n",
       "5    1990-01-05 01    1990 1  \n",
       "6    1990-01-06 01    1990 1  \n",
       "7    1990-01-07 01    1990 1  \n",
       "8    1990-01-08 01    1990 0  \n",
       "9    1990-01-09 01    1990 0  \n",
       "10   1990-01-10 01    1990 0  \n",
       "11   1990-01-11 01    1990 1  \n",
       "12   1990-01-12 01    1990 1  \n",
       "13   1990-01-13 01    1990 0  \n",
       "14   1990-01-14 01    1990 1  \n",
       "15   1990-01-15 01    1990 0  \n",
       "16   1990-01-16 01    1990 1  \n",
       "17   1990-01-17 01    1990 0  \n",
       "18   1990-01-18 01    1990 0  \n",
       "19   1990-01-19 01    1990 0  \n",
       "20   1990-01-20 01    1990 1  \n",
       "21   1990-01-21 01    1990 1  \n",
       "22   1990-01-22 01    1990 0  \n",
       "23   1990-01-23 01    1990 0  \n",
       "24   1990-01-24 01    1990 0  \n",
       "25   1990-01-25 01    1990 1  \n",
       "26   1990-01-26 01    1990 0  \n",
       "27   1990-01-27 01    1990 0  \n",
       "28   1990-01-28 01    1990 1  \n",
       "29   1990-01-29 01    1990 0  \n",
       "30   1990-01-30 01    1990 0  \n",
       "⋮    ⋮          ⋮     ⋮    ⋮  \n",
       "8737 2013-12-02 12    2013 1  \n",
       "8738 2013-12-03 12    2013 0  \n",
       "8739 2013-12-04 12    2013 1  \n",
       "8740 2013-12-05 12    2013 0  \n",
       "8741 2013-12-06 12    2013 1  \n",
       "8742 2013-12-07 12    2013 1  \n",
       "8743 2013-12-08 12    2013 0  \n",
       "8744 2013-12-09 12    2013 0  \n",
       "8745 2013-12-10 12    2013 1  \n",
       "8746 2013-12-11 12    2013 1  \n",
       "8747 2013-12-12 12    2013 0  \n",
       "8748 2013-12-13 12    2013 0  \n",
       "8749 2013-12-14 12    2013 1  \n",
       "8750 2013-12-15 12    2013 1  \n",
       "8751 2013-12-16 12    2013 0  \n",
       "8752 2013-12-17 12    2013 0  \n",
       "8753 2013-12-18 12    2013 0  \n",
       "8754 2013-12-19 12    2013 0  \n",
       "8755 2013-12-20 12    2013 1  \n",
       "8756 2013-12-21 12    2013 1  \n",
       "8757 2013-12-22 12    2013 0  \n",
       "8758 2013-12-23 12    2013 0  \n",
       "8759 2013-12-24 12    2013 0  \n",
       "8760 2013-12-25 12    2013 1  \n",
       "8761 2013-12-26 12    2013 0  \n",
       "8762 2013-12-27 12    2013 0  \n",
       "8763 2013-12-28 12    2013 0  \n",
       "8764 2013-12-29 12    2013 0  \n",
       "8765 2013-12-30 12    2013 0  \n",
       "8766 2013-12-31 12    2013 1  "
      ]
     },
     "metadata": {},
     "output_type": "display_data"
    }
   ],
   "source": [
    "data = as.data.frame(seq(as.Date(\"1990-01-01\"), as.Date(\"2013-12-31\"), by=\"day\"))\n",
    "names(data) = \"date\"\n",
    "# Create column with months\n",
    "data$month = substring(data$date,6,7)\n",
    "data$year = substring(data$date,1,4)\n",
    "data$val = round(rnorm(dim(data)[1], mean=0.5, sd=0.1))\n",
    "\n",
    "data"
   ]
  },
  {
   "cell_type": "code",
   "execution_count": 90,
   "metadata": {},
   "outputs": [
    {
     "name": "stdout",
     "output_type": "stream",
     "text": [
      " 01  02  03  04  05  06  07  08  09  10  11  12 \n",
      "361 346 351 330 393 348 386 333 343 382 375 384 \n"
     ]
    }
   ],
   "source": [
    "x <-tapply(data$val, data$month, sum)\n",
    "print(x)"
   ]
  },
  {
   "cell_type": "markdown",
   "metadata": {},
   "source": [
    "## apply()\n",
    "\n",
    "The apply() function is used to a evaluate a function (often an anonymous one) over the margins of an array. It is most often used to apply a function to the rows or columns of a matrix (which is just a 2-dimensional array). However, it can be used with general arrays, for example, to take the average of an array of matrices. Second argument - 1 means row-wise, 2 means column-wise"
   ]
  },
  {
   "cell_type": "code",
   "execution_count": 91,
   "metadata": {},
   "outputs": [
    {
     "data": {
      "text/html": [
       "<ol class=list-inline>\n",
       "\t<li>-0.00475977246892762</li>\n",
       "\t<li>0.0528003179418147</li>\n",
       "\t<li>0.288170222413004</li>\n",
       "\t<li>0.0942379143342995</li>\n",
       "\t<li>0.192618349845837</li>\n",
       "\t<li>-0.184116318358648</li>\n",
       "\t<li>-0.0919400336294464</li>\n",
       "\t<li>0.0973519802725657</li>\n",
       "\t<li>0.0122910385146962</li>\n",
       "\t<li>-0.0975072315334096</li>\n",
       "</ol>\n"
      ],
      "text/latex": [
       "\\begin{enumerate*}\n",
       "\\item -0.00475977246892762\n",
       "\\item 0.0528003179418147\n",
       "\\item 0.288170222413004\n",
       "\\item 0.0942379143342995\n",
       "\\item 0.192618349845837\n",
       "\\item -0.184116318358648\n",
       "\\item -0.0919400336294464\n",
       "\\item 0.0973519802725657\n",
       "\\item 0.0122910385146962\n",
       "\\item -0.0975072315334096\n",
       "\\end{enumerate*}\n"
      ],
      "text/markdown": [
       "1. -0.00475977246892762\n",
       "2. 0.0528003179418147\n",
       "3. 0.288170222413004\n",
       "4. 0.0942379143342995\n",
       "5. 0.192618349845837\n",
       "6. -0.184116318358648\n",
       "7. -0.0919400336294464\n",
       "8. 0.0973519802725657\n",
       "9. 0.0122910385146962\n",
       "10. -0.0975072315334096\n",
       "\n",
       "\n"
      ],
      "text/plain": [
       " [1] -0.004759772  0.052800318  0.288170222  0.094237914  0.192618350\n",
       " [6] -0.184116318 -0.091940034  0.097351980  0.012291039 -0.097507232"
      ]
     },
     "metadata": {},
     "output_type": "display_data"
    }
   ],
   "source": [
    "x <- matrix(rnorm(200), 20, 10)\n",
    "apply(x,2,mean)"
   ]
  },
  {
   "cell_type": "markdown",
   "metadata": {},
   "source": [
    "<a id='MathAndStatOperations'></a>\n",
    "\n",
    "# 11. Mathematical and Statistical Operations"
   ]
  },
  {
   "cell_type": "markdown",
   "metadata": {},
   "source": [
    "R has inbuilt functions for mathematical and statistical operations. \n",
    "\n",
    "R includes an extensive set of built-in math functions. Eg <br>\n",
    "• exp() : Exponential function, base e <br>\n",
    "• log() : Natural logarithm<br>\n",
    "• log10() : Logarithm base 10<br>\n",
    "• sqrt() : Square root<br>\n",
    "• abs() : Absolute value<br>\n",
    "• sin() , cos() , and so on: Trig functions <br>\n",
    "• min() and max() : Minimum value and maximum value within a vector <br>\n",
    "• which.min() and which.max() : Index of the minimal element and maximal element of a vector <br>\n",
    "• pmin() and pmax() : Element-wise minima and maxima of several vectors<br>\n",
    "• sum() and prod() : Sum and product of the elements of a vector<br>\n",
    "• cumsum() and cumprod() : Cumulative sum and product of the elements of a vector <br>\n",
    "• round() , floor() , and ceiling() : Round to the closest integer, to the closest integer below, and to the closest integer above <br>\n",
    "• factorial() : Factorial function"
   ]
  },
  {
   "cell_type": "code",
   "execution_count": 92,
   "metadata": {},
   "outputs": [
    {
     "data": {
      "text/html": [
       "<ol class=list-inline>\n",
       "\t<li>5</li>\n",
       "\t<li>7</li>\n",
       "\t<li>8</li>\n",
       "</ol>\n"
      ],
      "text/latex": [
       "\\begin{enumerate*}\n",
       "\\item 5\n",
       "\\item 7\n",
       "\\item 8\n",
       "\\end{enumerate*}\n"
      ],
      "text/markdown": [
       "1. 5\n",
       "2. 7\n",
       "3. 8\n",
       "\n",
       "\n"
      ],
      "text/plain": [
       "[1] 5 7 8"
      ]
     },
     "metadata": {},
     "output_type": "display_data"
    },
    {
     "data": {
      "text/html": [
       "<ol class=list-inline>\n",
       "\t<li>5</li>\n",
       "\t<li>10</li>\n",
       "\t<li>10</li>\n",
       "</ol>\n"
      ],
      "text/latex": [
       "\\begin{enumerate*}\n",
       "\\item 5\n",
       "\\item 10\n",
       "\\item 10\n",
       "\\end{enumerate*}\n"
      ],
      "text/markdown": [
       "1. 5\n",
       "2. 10\n",
       "3. 10\n",
       "\n",
       "\n"
      ],
      "text/plain": [
       "[1]  5 10 10"
      ]
     },
     "metadata": {},
     "output_type": "display_data"
    }
   ],
   "source": [
    "x <- c(5,2,1)\n",
    "cumsum(x)\n",
    "cumprod(x)"
   ]
  },
  {
   "cell_type": "markdown",
   "metadata": {},
   "source": [
    "## Functions for statistical Distributions"
   ]
  },
  {
   "cell_type": "markdown",
   "metadata": {},
   "source": [
    "Normal, chisquare and Binomial distribution for 'Density', 'cumilative', 'Quantile' and 'Random'"
   ]
  },
  {
   "cell_type": "code",
   "execution_count": 93,
   "metadata": {},
   "outputs": [
    {
     "data": {
      "text/html": [
       "0.00998689285956857"
      ],
      "text/latex": [
       "0.00998689285956857"
      ],
      "text/markdown": [
       "0.00998689285956857"
      ],
      "text/plain": [
       "[1] 0.009986893"
      ]
     },
     "metadata": {},
     "output_type": "display_data"
    }
   ],
   "source": [
    "#Mean of normal distribution of 1000 random numbers\n",
    "\n",
    "mean(rnorm(10000))"
   ]
  },
  {
   "cell_type": "markdown",
   "metadata": {},
   "source": [
    "<a id='GraphsAndPlots'></a>\n",
    "\n",
    "# 12. Graphs And Plots"
   ]
  },
  {
   "cell_type": "markdown",
   "metadata": {},
   "source": [
    "## Strip Charts\n",
    "A strip chart is the most basic type of plot available. It plots the data in order along a line with each data point represented as a box.\n"
   ]
  },
  {
   "cell_type": "code",
   "execution_count": 94,
   "metadata": {},
   "outputs": [
    {
     "data": {
      "image/png": "[encoded data removed]",
      "text/plain": [
       "plot without title"
      ]
     },
     "metadata": {},
     "output_type": "display_data"
    },
    {
     "data": {
      "image/png": "[encoded data removed]",
      "text/plain": [
       "plot without title"
      ]
     },
     "metadata": {},
     "output_type": "display_data"
    }
   ],
   "source": [
    "stripchart(c(4,1,2,8,12,43,20,41), method='jitter')\n",
    "stripchart(c(4,1,2,8,20,41,20,10,12), method='stack')"
   ]
  },
  {
   "cell_type": "markdown",
   "metadata": {},
   "source": [
    "## Histogram\n",
    "It plots the frequencies that data appears within certain ranges. "
   ]
  },
  {
   "cell_type": "code",
   "execution_count": 95,
   "metadata": {},
   "outputs": [
    {
     "data": {
      "image/png": "[encoded data removed]",
      "text/plain": [
       "Plot with title “Distribution of w1”"
      ]
     },
     "metadata": {},
     "output_type": "display_data"
    }
   ],
   "source": [
    "hist(c(4,1,2,8,20,41,20,24,12,23,43,45,54,10,12),main=\"Distribution of w1\",xlab=\"w1\", breaks = 7)"
   ]
  },
  {
   "cell_type": "markdown",
   "metadata": {},
   "source": [
    "## Boxplot\n",
    "\n",
    "A boxplot provides a graphical view of the median, quartiles, maximum, and minimum of a data set. "
   ]
  },
  {
   "cell_type": "code",
   "execution_count": 96,
   "metadata": {},
   "outputs": [
    {
     "data": {
      "image/png": "[encoded data removed]",
      "text/plain": [
       "plot without title"
      ]
     },
     "metadata": {},
     "output_type": "display_data"
    }
   ],
   "source": [
    "x <- c(4,1,2,8,20,41,20,24,12,23,43,45,54,10,12)\n",
    "boxplot(x)"
   ]
  },
  {
   "cell_type": "markdown",
   "metadata": {},
   "source": [
    "## Relationship Plots\n",
    "\n",
    "The different plots are :\n",
    "1. Scatter plot\n",
    "2. Line Plot\n",
    "3. Histogram-like vertical plot"
   ]
  },
  {
   "cell_type": "code",
   "execution_count": 97,
   "metadata": {
    "scrolled": false
   },
   "outputs": [
    {
     "data": {
      "image/png": "[encoded data removed]",
      "text/plain": [
       "Plot with title “Scatter Plot”"
      ]
     },
     "metadata": {},
     "output_type": "display_data"
    },
    {
     "data": {
      "image/png": "[encoded data removed]",
      "text/plain": [
       "Plot with title “Line Plot”"
      ]
     },
     "metadata": {},
     "output_type": "display_data"
    },
    {
     "data": {
      "image/png": "[encoded data removed]",
      "text/plain": [
       "Plot with title “Both Line and Scatter Plot”"
      ]
     },
     "metadata": {},
     "output_type": "display_data"
    },
    {
     "data": {
      "image/png": "[encoded data removed]",
      "text/plain": [
       "Plot with title “Vertical Line Plot”"
      ]
     },
     "metadata": {},
     "output_type": "display_data"
    },
    {
     "data": {
      "image/png": "[encoded data removed]",
      "text/plain": [
       "Plot with title “Steps Plot”"
      ]
     },
     "metadata": {},
     "output_type": "display_data"
    }
   ],
   "source": [
    "x <- c(4,1,2,8,20,41,20,24,12,23,43,45,54,10,12)\n",
    "x <- sort(x)\n",
    "y <- c(8,2,4,15,30,80,35,50,30,40,80,90,100,20,25)\n",
    "y <- sort(y)\n",
    "plot(x,y, 'p', 'main' = 'Scatter Plot')\n",
    "plot(x,y, 'l', 'main' = 'Line Plot')\n",
    "plot(x,y, 'b', 'main' = 'Both Line and Scatter Plot')\n",
    "plot(x,y, 'h', 'main' = 'Vertical Line Plot')\n",
    "plot(x,y, 's', 'main' = 'Steps Plot')"
   ]
  },
  {
   "cell_type": "markdown",
   "metadata": {},
   "source": [
    "## QQ Plot"
   ]
  },
  {
   "cell_type": "markdown",
   "metadata": {},
   "source": [
    "This plot is used to determine if your data is close to being normally distributed. "
   ]
  },
  {
   "cell_type": "code",
   "execution_count": 98,
   "metadata": {},
   "outputs": [
    {
     "data": {
      "image/png": "[encoded data removed]",
      "text/plain": [
       "Plot with title “Normal Q-Q Plot”"
      ]
     },
     "metadata": {},
     "output_type": "display_data"
    }
   ],
   "source": [
    "qqnorm(x)"
   ]
  },
  {
   "cell_type": "code",
   "execution_count": null,
   "metadata": {},
   "outputs": [],
   "source": []
  }
 ],
 "metadata": {
  "kernelspec": {
   "display_name": "R",
   "language": "R",
   "name": "ir"
  },
  "language_info": {
   "codemirror_mode": "r",
   "file_extension": ".r",
   "mimetype": "text/x-r-source",
   "name": "R",
   "pygments_lexer": "r",
   "version": "3.4.3"
  }
 },
 "nbformat": 4,
 "nbformat_minor": 2
}
